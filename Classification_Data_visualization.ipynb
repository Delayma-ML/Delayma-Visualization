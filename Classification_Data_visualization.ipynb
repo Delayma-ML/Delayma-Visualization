{
 "cells": [
  {
   "cell_type": "code",
   "execution_count": 300,
   "metadata": {
    "collapsed": true
   },
   "outputs": [],
   "source": [
    "import pandas as pd\n",
    "import numpy as np\n",
    "import matplotlib.pyplot as plt\n",
    "import seaborn as sns\n",
    "import os\n",
    "import re\n",
    "import imblearn\n",
    "from sklearn.decomposition import PCA\n",
    "\n"
   ]
  },
  {
   "cell_type": "code",
   "execution_count": 301,
   "outputs": [
    {
     "data": {
      "text/html": [
       "<div>\n",
       "<style scoped>\n",
       "    .dataframe tbody tr th:only-of-type {\n",
       "        vertical-align: middle;\n",
       "    }\n",
       "\n",
       "    .dataframe tbody tr th {\n",
       "        vertical-align: top;\n",
       "    }\n",
       "\n",
       "    .dataframe thead th {\n",
       "        text-align: right;\n",
       "    }\n",
       "</style>\n",
       "<table border=\"1\" class=\"dataframe\">\n",
       "  <thead>\n",
       "    <tr style=\"text-align: right;\">\n",
       "      <th></th>\n",
       "      <th>MONTH</th>\n",
       "      <th>DAY_OF_MONTH</th>\n",
       "      <th>DAY_OF_WEEK</th>\n",
       "      <th>OP_UNIQUE_CARRIER</th>\n",
       "      <th>TAIL_NUM</th>\n",
       "      <th>DEST</th>\n",
       "      <th>DEP_DELAY</th>\n",
       "      <th>CRS_ELAPSED_TIME</th>\n",
       "      <th>DISTANCE</th>\n",
       "      <th>CRS_DEP_M</th>\n",
       "      <th>...</th>\n",
       "      <th>Dew Point</th>\n",
       "      <th>Humidity</th>\n",
       "      <th>Wind</th>\n",
       "      <th>Wind Speed</th>\n",
       "      <th>Wind Gust</th>\n",
       "      <th>Pressure</th>\n",
       "      <th>Condition</th>\n",
       "      <th>sch_dep</th>\n",
       "      <th>sch_arr</th>\n",
       "      <th>TAXI_OUT</th>\n",
       "    </tr>\n",
       "  </thead>\n",
       "  <tbody>\n",
       "    <tr>\n",
       "      <th>0</th>\n",
       "      <td>11</td>\n",
       "      <td>1</td>\n",
       "      <td>5</td>\n",
       "      <td>B6</td>\n",
       "      <td>N828JB</td>\n",
       "      <td>CHS</td>\n",
       "      <td>-1</td>\n",
       "      <td>124</td>\n",
       "      <td>636</td>\n",
       "      <td>324</td>\n",
       "      <td>...</td>\n",
       "      <td>34</td>\n",
       "      <td>58</td>\n",
       "      <td>W</td>\n",
       "      <td>25</td>\n",
       "      <td>38</td>\n",
       "      <td>29.86</td>\n",
       "      <td>Fair / Windy</td>\n",
       "      <td>9</td>\n",
       "      <td>17</td>\n",
       "      <td>14</td>\n",
       "    </tr>\n",
       "    <tr>\n",
       "      <th>1</th>\n",
       "      <td>11</td>\n",
       "      <td>1</td>\n",
       "      <td>5</td>\n",
       "      <td>B6</td>\n",
       "      <td>N992JB</td>\n",
       "      <td>LAX</td>\n",
       "      <td>-7</td>\n",
       "      <td>371</td>\n",
       "      <td>2475</td>\n",
       "      <td>340</td>\n",
       "      <td>...</td>\n",
       "      <td>34</td>\n",
       "      <td>58</td>\n",
       "      <td>W</td>\n",
       "      <td>25</td>\n",
       "      <td>38</td>\n",
       "      <td>29.86</td>\n",
       "      <td>Fair / Windy</td>\n",
       "      <td>9</td>\n",
       "      <td>17</td>\n",
       "      <td>15</td>\n",
       "    </tr>\n",
       "    <tr>\n",
       "      <th>2</th>\n",
       "      <td>11</td>\n",
       "      <td>1</td>\n",
       "      <td>5</td>\n",
       "      <td>B6</td>\n",
       "      <td>N959JB</td>\n",
       "      <td>FLL</td>\n",
       "      <td>40</td>\n",
       "      <td>181</td>\n",
       "      <td>1069</td>\n",
       "      <td>301</td>\n",
       "      <td>...</td>\n",
       "      <td>34</td>\n",
       "      <td>58</td>\n",
       "      <td>W</td>\n",
       "      <td>25</td>\n",
       "      <td>38</td>\n",
       "      <td>29.86</td>\n",
       "      <td>Fair / Windy</td>\n",
       "      <td>9</td>\n",
       "      <td>17</td>\n",
       "      <td>22</td>\n",
       "    </tr>\n",
       "    <tr>\n",
       "      <th>3</th>\n",
       "      <td>11</td>\n",
       "      <td>1</td>\n",
       "      <td>5</td>\n",
       "      <td>B6</td>\n",
       "      <td>N999JQ</td>\n",
       "      <td>MCO</td>\n",
       "      <td>-2</td>\n",
       "      <td>168</td>\n",
       "      <td>944</td>\n",
       "      <td>345</td>\n",
       "      <td>...</td>\n",
       "      <td>34</td>\n",
       "      <td>58</td>\n",
       "      <td>W</td>\n",
       "      <td>25</td>\n",
       "      <td>38</td>\n",
       "      <td>29.86</td>\n",
       "      <td>Fair / Windy</td>\n",
       "      <td>9</td>\n",
       "      <td>17</td>\n",
       "      <td>12</td>\n",
       "    </tr>\n",
       "    <tr>\n",
       "      <th>4</th>\n",
       "      <td>11</td>\n",
       "      <td>1</td>\n",
       "      <td>5</td>\n",
       "      <td>DL</td>\n",
       "      <td>N880DN</td>\n",
       "      <td>ATL</td>\n",
       "      <td>-4</td>\n",
       "      <td>139</td>\n",
       "      <td>760</td>\n",
       "      <td>360</td>\n",
       "      <td>...</td>\n",
       "      <td>32</td>\n",
       "      <td>58</td>\n",
       "      <td>W</td>\n",
       "      <td>24</td>\n",
       "      <td>35</td>\n",
       "      <td>29.91</td>\n",
       "      <td>Fair / Windy</td>\n",
       "      <td>9</td>\n",
       "      <td>17</td>\n",
       "      <td>13</td>\n",
       "    </tr>\n",
       "  </tbody>\n",
       "</table>\n",
       "<p>5 rows × 23 columns</p>\n",
       "</div>"
      ],
      "text/plain": [
       "   MONTH  DAY_OF_MONTH  DAY_OF_WEEK OP_UNIQUE_CARRIER TAIL_NUM DEST  \\\n",
       "0     11             1            5                B6   N828JB  CHS   \n",
       "1     11             1            5                B6   N992JB  LAX   \n",
       "2     11             1            5                B6   N959JB  FLL   \n",
       "3     11             1            5                B6   N999JQ  MCO   \n",
       "4     11             1            5                DL   N880DN  ATL   \n",
       "\n",
       "   DEP_DELAY  CRS_ELAPSED_TIME  DISTANCE  CRS_DEP_M  ...  Dew Point  Humidity  \\\n",
       "0         -1               124       636        324  ...         34        58   \n",
       "1         -7               371      2475        340  ...         34        58   \n",
       "2         40               181      1069        301  ...         34        58   \n",
       "3         -2               168       944        345  ...         34        58   \n",
       "4         -4               139       760        360  ...         32        58   \n",
       "\n",
       "   Wind Wind Speed  Wind Gust Pressure     Condition  sch_dep  sch_arr  \\\n",
       "0     W         25         38    29.86  Fair / Windy        9       17   \n",
       "1     W         25         38    29.86  Fair / Windy        9       17   \n",
       "2     W         25         38    29.86  Fair / Windy        9       17   \n",
       "3     W         25         38    29.86  Fair / Windy        9       17   \n",
       "4     W         24         35    29.91  Fair / Windy        9       17   \n",
       "\n",
       "  TAXI_OUT  \n",
       "0       14  \n",
       "1       15  \n",
       "2       22  \n",
       "3       12  \n",
       "4       13  \n",
       "\n",
       "[5 rows x 23 columns]"
      ]
     },
     "execution_count": 301,
     "metadata": {},
     "output_type": "execute_result"
    }
   ],
   "source": [
    "df = pd.read_csv('data/processed/archive/M1_final.csv')\n",
    "df_pre = df.copy()\n",
    "\n",
    "df.head()"
   ]
  },
  {
   "cell_type": "code",
   "execution_count": 302,
   "outputs": [
    {
     "data": {
      "text/plain": "(28820, 23)"
     },
     "execution_count": 302,
     "metadata": {},
     "output_type": "execute_result"
    }
   ],
   "source": [
    "df.shape"
   ],
   "metadata": {
    "collapsed": false
   }
  },
  {
   "cell_type": "code",
   "execution_count": 303,
   "outputs": [
    {
     "data": {
      "text/html": [
       "<div>\n",
       "<style scoped>\n",
       "    .dataframe tbody tr th:only-of-type {\n",
       "        vertical-align: middle;\n",
       "    }\n",
       "\n",
       "    .dataframe tbody tr th {\n",
       "        vertical-align: top;\n",
       "    }\n",
       "\n",
       "    .dataframe thead th {\n",
       "        text-align: right;\n",
       "    }\n",
       "</style>\n",
       "<table border=\"1\" class=\"dataframe\">\n",
       "  <thead>\n",
       "    <tr style=\"text-align: right;\">\n",
       "      <th></th>\n",
       "      <th>MONTH</th>\n",
       "      <th>DAY_OF_MONTH</th>\n",
       "      <th>DAY_OF_WEEK</th>\n",
       "      <th>DEP_DELAY</th>\n",
       "      <th>CRS_ELAPSED_TIME</th>\n",
       "      <th>DISTANCE</th>\n",
       "      <th>CRS_DEP_M</th>\n",
       "      <th>DEP_TIME_M</th>\n",
       "      <th>CRS_ARR_M</th>\n",
       "      <th>Temperature</th>\n",
       "      <th>Humidity</th>\n",
       "      <th>Wind Speed</th>\n",
       "      <th>Wind Gust</th>\n",
       "      <th>Pressure</th>\n",
       "      <th>sch_dep</th>\n",
       "      <th>sch_arr</th>\n",
       "      <th>TAXI_OUT</th>\n",
       "    </tr>\n",
       "  </thead>\n",
       "  <tbody>\n",
       "    <tr>\n",
       "      <th>count</th>\n",
       "      <td>28820.000000</td>\n",
       "      <td>28820.000000</td>\n",
       "      <td>28820.000000</td>\n",
       "      <td>28820.000000</td>\n",
       "      <td>28820.000000</td>\n",
       "      <td>28820.000000</td>\n",
       "      <td>28820.000000</td>\n",
       "      <td>28820.000000</td>\n",
       "      <td>28820.000000</td>\n",
       "      <td>28820.000000</td>\n",
       "      <td>28820.000000</td>\n",
       "      <td>28820.000000</td>\n",
       "      <td>28820.000000</td>\n",
       "      <td>28820.000000</td>\n",
       "      <td>28820.000000</td>\n",
       "      <td>28820.000000</td>\n",
       "      <td>28820.000000</td>\n",
       "    </tr>\n",
       "    <tr>\n",
       "      <th>mean</th>\n",
       "      <td>7.894240</td>\n",
       "      <td>16.021096</td>\n",
       "      <td>4.008952</td>\n",
       "      <td>6.374983</td>\n",
       "      <td>225.288203</td>\n",
       "      <td>1267.746079</td>\n",
       "      <td>831.003851</td>\n",
       "      <td>828.934698</td>\n",
       "      <td>910.874289</td>\n",
       "      <td>41.489833</td>\n",
       "      <td>57.732616</td>\n",
       "      <td>12.367627</td>\n",
       "      <td>5.535323</td>\n",
       "      <td>30.092433</td>\n",
       "      <td>31.091256</td>\n",
       "      <td>28.432130</td>\n",
       "      <td>20.858570</td>\n",
       "    </tr>\n",
       "    <tr>\n",
       "      <th>std</th>\n",
       "      <td>4.991723</td>\n",
       "      <td>8.750179</td>\n",
       "      <td>1.985230</td>\n",
       "      <td>38.735144</td>\n",
       "      <td>119.482417</td>\n",
       "      <td>889.343246</td>\n",
       "      <td>299.398525</td>\n",
       "      <td>305.864103</td>\n",
       "      <td>345.411743</td>\n",
       "      <td>8.043533</td>\n",
       "      <td>23.468676</td>\n",
       "      <td>6.259298</td>\n",
       "      <td>11.886457</td>\n",
       "      <td>0.296160</td>\n",
       "      <td>9.510359</td>\n",
       "      <td>8.263043</td>\n",
       "      <td>6.851915</td>\n",
       "    </tr>\n",
       "    <tr>\n",
       "      <th>min</th>\n",
       "      <td>1.000000</td>\n",
       "      <td>1.000000</td>\n",
       "      <td>1.000000</td>\n",
       "      <td>-22.000000</td>\n",
       "      <td>57.000000</td>\n",
       "      <td>94.000000</td>\n",
       "      <td>301.000000</td>\n",
       "      <td>1.000000</td>\n",
       "      <td>1.000000</td>\n",
       "      <td>17.000000</td>\n",
       "      <td>0.000000</td>\n",
       "      <td>0.000000</td>\n",
       "      <td>0.000000</td>\n",
       "      <td>29.200000</td>\n",
       "      <td>0.000000</td>\n",
       "      <td>0.000000</td>\n",
       "      <td>5.000000</td>\n",
       "    </tr>\n",
       "    <tr>\n",
       "      <th>25%</th>\n",
       "      <td>1.000000</td>\n",
       "      <td>8.000000</td>\n",
       "      <td>2.000000</td>\n",
       "      <td>-6.000000</td>\n",
       "      <td>124.000000</td>\n",
       "      <td>483.000000</td>\n",
       "      <td>545.000000</td>\n",
       "      <td>542.000000</td>\n",
       "      <td>667.000000</td>\n",
       "      <td>36.000000</td>\n",
       "      <td>46.000000</td>\n",
       "      <td>8.000000</td>\n",
       "      <td>0.000000</td>\n",
       "      <td>29.880000</td>\n",
       "      <td>26.000000</td>\n",
       "      <td>21.000000</td>\n",
       "      <td>16.000000</td>\n",
       "    </tr>\n",
       "    <tr>\n",
       "      <th>50%</th>\n",
       "      <td>11.000000</td>\n",
       "      <td>16.000000</td>\n",
       "      <td>4.000000</td>\n",
       "      <td>-3.000000</td>\n",
       "      <td>188.000000</td>\n",
       "      <td>1029.000000</td>\n",
       "      <td>856.000000</td>\n",
       "      <td>854.000000</td>\n",
       "      <td>918.000000</td>\n",
       "      <td>42.000000</td>\n",
       "      <td>59.000000</td>\n",
       "      <td>12.000000</td>\n",
       "      <td>0.000000</td>\n",
       "      <td>30.110000</td>\n",
       "      <td>30.000000</td>\n",
       "      <td>30.000000</td>\n",
       "      <td>19.000000</td>\n",
       "    </tr>\n",
       "    <tr>\n",
       "      <th>75%</th>\n",
       "      <td>12.000000</td>\n",
       "      <td>24.000000</td>\n",
       "      <td>6.000000</td>\n",
       "      <td>2.000000</td>\n",
       "      <td>365.000000</td>\n",
       "      <td>2248.000000</td>\n",
       "      <td>1095.000000</td>\n",
       "      <td>1097.000000</td>\n",
       "      <td>1193.000000</td>\n",
       "      <td>47.000000</td>\n",
       "      <td>74.000000</td>\n",
       "      <td>16.000000</td>\n",
       "      <td>0.000000</td>\n",
       "      <td>30.320000</td>\n",
       "      <td>37.000000</td>\n",
       "      <td>35.000000</td>\n",
       "      <td>25.000000</td>\n",
       "    </tr>\n",
       "    <tr>\n",
       "      <th>max</th>\n",
       "      <td>12.000000</td>\n",
       "      <td>31.000000</td>\n",
       "      <td>7.000000</td>\n",
       "      <td>1276.000000</td>\n",
       "      <td>697.000000</td>\n",
       "      <td>4983.000000</td>\n",
       "      <td>1439.000000</td>\n",
       "      <td>1440.000000</td>\n",
       "      <td>1439.000000</td>\n",
       "      <td>68.000000</td>\n",
       "      <td>97.000000</td>\n",
       "      <td>36.000000</td>\n",
       "      <td>49.000000</td>\n",
       "      <td>30.750000</td>\n",
       "      <td>55.000000</td>\n",
       "      <td>46.000000</td>\n",
       "      <td>41.000000</td>\n",
       "    </tr>\n",
       "  </tbody>\n",
       "</table>\n",
       "</div>"
      ],
      "text/plain": [
       "              MONTH  DAY_OF_MONTH   DAY_OF_WEEK     DEP_DELAY  \\\n",
       "count  28820.000000  28820.000000  28820.000000  28820.000000   \n",
       "mean       7.894240     16.021096      4.008952      6.374983   \n",
       "std        4.991723      8.750179      1.985230     38.735144   \n",
       "min        1.000000      1.000000      1.000000    -22.000000   \n",
       "25%        1.000000      8.000000      2.000000     -6.000000   \n",
       "50%       11.000000     16.000000      4.000000     -3.000000   \n",
       "75%       12.000000     24.000000      6.000000      2.000000   \n",
       "max       12.000000     31.000000      7.000000   1276.000000   \n",
       "\n",
       "       CRS_ELAPSED_TIME      DISTANCE     CRS_DEP_M    DEP_TIME_M  \\\n",
       "count      28820.000000  28820.000000  28820.000000  28820.000000   \n",
       "mean         225.288203   1267.746079    831.003851    828.934698   \n",
       "std          119.482417    889.343246    299.398525    305.864103   \n",
       "min           57.000000     94.000000    301.000000      1.000000   \n",
       "25%          124.000000    483.000000    545.000000    542.000000   \n",
       "50%          188.000000   1029.000000    856.000000    854.000000   \n",
       "75%          365.000000   2248.000000   1095.000000   1097.000000   \n",
       "max          697.000000   4983.000000   1439.000000   1440.000000   \n",
       "\n",
       "          CRS_ARR_M   Temperature      Humidity    Wind Speed     Wind Gust  \\\n",
       "count  28820.000000  28820.000000  28820.000000  28820.000000  28820.000000   \n",
       "mean     910.874289     41.489833     57.732616     12.367627      5.535323   \n",
       "std      345.411743      8.043533     23.468676      6.259298     11.886457   \n",
       "min        1.000000     17.000000      0.000000      0.000000      0.000000   \n",
       "25%      667.000000     36.000000     46.000000      8.000000      0.000000   \n",
       "50%      918.000000     42.000000     59.000000     12.000000      0.000000   \n",
       "75%     1193.000000     47.000000     74.000000     16.000000      0.000000   \n",
       "max     1439.000000     68.000000     97.000000     36.000000     49.000000   \n",
       "\n",
       "           Pressure       sch_dep       sch_arr      TAXI_OUT  \n",
       "count  28820.000000  28820.000000  28820.000000  28820.000000  \n",
       "mean      30.092433     31.091256     28.432130     20.858570  \n",
       "std        0.296160      9.510359      8.263043      6.851915  \n",
       "min       29.200000      0.000000      0.000000      5.000000  \n",
       "25%       29.880000     26.000000     21.000000     16.000000  \n",
       "50%       30.110000     30.000000     30.000000     19.000000  \n",
       "75%       30.320000     37.000000     35.000000     25.000000  \n",
       "max       30.750000     55.000000     46.000000     41.000000  "
      ]
     },
     "execution_count": 303,
     "metadata": {},
     "output_type": "execute_result"
    }
   ],
   "source": [
    "df.describe()"
   ]
  },
  {
   "cell_type": "code",
   "execution_count": 304,
   "outputs": [
    {
     "data": {
      "text/plain": [
       "<Axes: ylabel='count'>"
      ]
     },
     "execution_count": 304,
     "metadata": {},
     "output_type": "execute_result"
    },
    {
     "data": {
      "text/plain": [
       "<Figure size 600x600 with 1 Axes>"
      ]
     },
     "metadata": {},
     "output_type": "display_data"
    }
   ],
   "source": [
    "# draw pie chart for unique op carriers\n",
    "df['OP_UNIQUE_CARRIER'].value_counts().plot(kind='pie', figsize=(6,6), autopct='%1.1f%%')"
   ]
  },
  {
   "cell_type": "markdown",
   "metadata": {
    "collapsed": false
   },
   "source": [
    "## The most frequent carriers are 9E, B6 and DL"
   ]
  },
  {
   "cell_type": "code",
   "execution_count": 305,
   "outputs": [],
   "source": [
    "# To handle unbalanced data we can use SMOTE\n"
   ],
   "metadata": {
    "collapsed": false
   }
  },
  {
   "cell_type": "code",
   "execution_count": 305,
   "outputs": [],
   "source": [],
   "metadata": {
    "collapsed": false
   }
  },
  {
   "cell_type": "code",
   "execution_count": 306,
   "outputs": [
    {
     "data": {
      "text/plain": [
       "OP_UNIQUE_CARRIER\n",
       "B6    9589\n",
       "DL    7680\n",
       "9E    4485\n",
       "AA    3595\n",
       "AS    1111\n",
       "MQ    1045\n",
       "YX     914\n",
       "OO     311\n",
       "HA      90\n",
       "Name: count, dtype: int64"
      ]
     },
     "execution_count": 306,
     "metadata": {},
     "output_type": "execute_result"
    }
   ],
   "source": [
    "df['OP_UNIQUE_CARRIER'].value_counts()"
   ]
  },
  {
   "cell_type": "code",
   "execution_count": 307,
   "outputs": [
    {
     "data": {
      "text/plain": [
       "Index(['MONTH', 'DAY_OF_MONTH', 'DAY_OF_WEEK', 'OP_UNIQUE_CARRIER', 'TAIL_NUM',\n",
       "       'DEST', 'DEP_DELAY', 'CRS_ELAPSED_TIME', 'DISTANCE', 'CRS_DEP_M',\n",
       "       'DEP_TIME_M', 'CRS_ARR_M', 'Temperature', 'Dew Point', 'Humidity',\n",
       "       'Wind', 'Wind Speed', 'Wind Gust', 'Pressure', 'Condition', 'sch_dep',\n",
       "       'sch_arr', 'TAXI_OUT'],\n",
       "      dtype='object')"
      ]
     },
     "execution_count": 307,
     "metadata": {},
     "output_type": "execute_result"
    }
   ],
   "source": [
    "# all columns of df\n",
    "df.columns"
   ]
  },
  {
   "cell_type": "code",
   "execution_count": 308,
   "outputs": [
    {
     "data": {
      "text/html": [
       "<div>\n",
       "<style scoped>\n",
       "    .dataframe tbody tr th:only-of-type {\n",
       "        vertical-align: middle;\n",
       "    }\n",
       "\n",
       "    .dataframe tbody tr th {\n",
       "        vertical-align: top;\n",
       "    }\n",
       "\n",
       "    .dataframe thead th {\n",
       "        text-align: right;\n",
       "    }\n",
       "</style>\n",
       "<table border=\"1\" class=\"dataframe\">\n",
       "  <thead>\n",
       "    <tr style=\"text-align: right;\">\n",
       "      <th></th>\n",
       "      <th>max</th>\n",
       "      <th>min</th>\n",
       "      <th>mean</th>\n",
       "    </tr>\n",
       "    <tr>\n",
       "      <th>OP_UNIQUE_CARRIER</th>\n",
       "      <th></th>\n",
       "      <th></th>\n",
       "      <th></th>\n",
       "    </tr>\n",
       "  </thead>\n",
       "  <tbody>\n",
       "    <tr>\n",
       "      <th>9E</th>\n",
       "      <td>729</td>\n",
       "      <td>-20</td>\n",
       "      <td>5.374805</td>\n",
       "    </tr>\n",
       "    <tr>\n",
       "      <th>AA</th>\n",
       "      <td>1048</td>\n",
       "      <td>-16</td>\n",
       "      <td>5.450348</td>\n",
       "    </tr>\n",
       "    <tr>\n",
       "      <th>AS</th>\n",
       "      <td>621</td>\n",
       "      <td>-19</td>\n",
       "      <td>5.103510</td>\n",
       "    </tr>\n",
       "    <tr>\n",
       "      <th>B6</th>\n",
       "      <td>830</td>\n",
       "      <td>-22</td>\n",
       "      <td>8.108979</td>\n",
       "    </tr>\n",
       "    <tr>\n",
       "      <th>DL</th>\n",
       "      <td>1199</td>\n",
       "      <td>-16</td>\n",
       "      <td>5.463151</td>\n",
       "    </tr>\n",
       "    <tr>\n",
       "      <th>HA</th>\n",
       "      <td>117</td>\n",
       "      <td>-14</td>\n",
       "      <td>0.755556</td>\n",
       "    </tr>\n",
       "    <tr>\n",
       "      <th>MQ</th>\n",
       "      <td>599</td>\n",
       "      <td>-14</td>\n",
       "      <td>5.553110</td>\n",
       "    </tr>\n",
       "    <tr>\n",
       "      <th>OO</th>\n",
       "      <td>1276</td>\n",
       "      <td>-14</td>\n",
       "      <td>16.639871</td>\n",
       "    </tr>\n",
       "    <tr>\n",
       "      <th>YX</th>\n",
       "      <td>1148</td>\n",
       "      <td>-15</td>\n",
       "      <td>3.935449</td>\n",
       "    </tr>\n",
       "  </tbody>\n",
       "</table>\n",
       "</div>"
      ],
      "text/plain": [
       "                    max  min       mean\n",
       "OP_UNIQUE_CARRIER                      \n",
       "9E                  729  -20   5.374805\n",
       "AA                 1048  -16   5.450348\n",
       "AS                  621  -19   5.103510\n",
       "B6                  830  -22   8.108979\n",
       "DL                 1199  -16   5.463151\n",
       "HA                  117  -14   0.755556\n",
       "MQ                  599  -14   5.553110\n",
       "OO                 1276  -14  16.639871\n",
       "YX                 1148  -15   3.935449"
      ]
     },
     "execution_count": 308,
     "metadata": {},
     "output_type": "execute_result"
    },
    {
     "data": {
      "text/plain": [
       "<Figure size 600x600 with 1 Axes>"
      ]
     },
     "metadata": {},
     "output_type": "display_data"
    }
   ],
   "source": [
    "# maximum minimum and mean delay time for each carrier\n",
    "df.groupby('OP_UNIQUE_CARRIER')['DEP_DELAY'].agg(['max', 'min', 'mean']).plot(kind='bar', figsize=(6,6))\n",
    "df.groupby('OP_UNIQUE_CARRIER')['DEP_DELAY'].agg(['max', 'min', 'mean'])\n",
    "\n"
   ]
  },
  {
   "cell_type": "code",
   "execution_count": 309,
   "outputs": [
    {
     "name": "stdout",
     "output_type": "stream",
     "text": [
      "{'9E': 0, 'AA': 1, 'AS': 2, 'B6': 3, 'DL': 4, 'HA': 5, 'MQ': 6, 'OO': 7, 'YX': 8}\n"
     ]
    }
   ],
   "source": [
    "# Label encoding for OP_UNIQUE_CARRIER\n",
    "from sklearn.preprocessing import LabelEncoder\n",
    "le = LabelEncoder()\n",
    "df['OP_UNIQUE_CARRIER'] = le.fit_transform(df['OP_UNIQUE_CARRIER'])\n",
    "le_name_mapping = dict(zip(le.classes_, le.transform(le.classes_)))\n",
    "print(le_name_mapping)"
   ]
  },
  {
   "cell_type": "code",
   "execution_count": 310,
   "outputs": [
    {
     "data": {
      "text/html": [
       "<div>\n",
       "<style scoped>\n",
       "    .dataframe tbody tr th:only-of-type {\n",
       "        vertical-align: middle;\n",
       "    }\n",
       "\n",
       "    .dataframe tbody tr th {\n",
       "        vertical-align: top;\n",
       "    }\n",
       "\n",
       "    .dataframe thead th {\n",
       "        text-align: right;\n",
       "    }\n",
       "</style>\n",
       "<table border=\"1\" class=\"dataframe\">\n",
       "  <thead>\n",
       "    <tr style=\"text-align: right;\">\n",
       "      <th></th>\n",
       "      <th>DEP_DELAY</th>\n",
       "      <th>Wind Gust</th>\n",
       "      <th>Wind Speed</th>\n",
       "      <th>Temperature</th>\n",
       "      <th>Pressure</th>\n",
       "      <th>Dew Point</th>\n",
       "      <th>Humidity</th>\n",
       "    </tr>\n",
       "  </thead>\n",
       "  <tbody>\n",
       "    <tr>\n",
       "      <th>DEP_DELAY</th>\n",
       "      <td>1.000000</td>\n",
       "      <td>0.044340</td>\n",
       "      <td>0.067718</td>\n",
       "      <td>-0.032261</td>\n",
       "      <td>-0.064939</td>\n",
       "      <td>-0.000013</td>\n",
       "      <td>-0.011776</td>\n",
       "    </tr>\n",
       "    <tr>\n",
       "      <th>Wind Gust</th>\n",
       "      <td>0.044340</td>\n",
       "      <td>1.000000</td>\n",
       "      <td>0.698795</td>\n",
       "      <td>-0.039487</td>\n",
       "      <td>-0.186249</td>\n",
       "      <td>-0.163160</td>\n",
       "      <td>-0.106828</td>\n",
       "    </tr>\n",
       "    <tr>\n",
       "      <th>Wind Speed</th>\n",
       "      <td>0.067718</td>\n",
       "      <td>0.698795</td>\n",
       "      <td>1.000000</td>\n",
       "      <td>0.010603</td>\n",
       "      <td>-0.309978</td>\n",
       "      <td>-0.142122</td>\n",
       "      <td>-0.110274</td>\n",
       "    </tr>\n",
       "    <tr>\n",
       "      <th>Temperature</th>\n",
       "      <td>-0.032261</td>\n",
       "      <td>-0.039487</td>\n",
       "      <td>0.010603</td>\n",
       "      <td>1.000000</td>\n",
       "      <td>-0.376730</td>\n",
       "      <td>0.787864</td>\n",
       "      <td>0.054401</td>\n",
       "    </tr>\n",
       "    <tr>\n",
       "      <th>Pressure</th>\n",
       "      <td>-0.064939</td>\n",
       "      <td>-0.186249</td>\n",
       "      <td>-0.309978</td>\n",
       "      <td>-0.376730</td>\n",
       "      <td>1.000000</td>\n",
       "      <td>-0.489134</td>\n",
       "      <td>0.033677</td>\n",
       "    </tr>\n",
       "    <tr>\n",
       "      <th>Dew Point</th>\n",
       "      <td>-0.000013</td>\n",
       "      <td>-0.163160</td>\n",
       "      <td>-0.142122</td>\n",
       "      <td>0.787864</td>\n",
       "      <td>-0.489134</td>\n",
       "      <td>1.000000</td>\n",
       "      <td>0.195262</td>\n",
       "    </tr>\n",
       "    <tr>\n",
       "      <th>Humidity</th>\n",
       "      <td>-0.011776</td>\n",
       "      <td>-0.106828</td>\n",
       "      <td>-0.110274</td>\n",
       "      <td>0.054401</td>\n",
       "      <td>0.033677</td>\n",
       "      <td>0.195262</td>\n",
       "      <td>1.000000</td>\n",
       "    </tr>\n",
       "  </tbody>\n",
       "</table>\n",
       "</div>"
      ],
      "text/plain": [
       "             DEP_DELAY  Wind Gust  Wind Speed  Temperature  Pressure  \\\n",
       "DEP_DELAY     1.000000   0.044340    0.067718    -0.032261 -0.064939   \n",
       "Wind Gust     0.044340   1.000000    0.698795    -0.039487 -0.186249   \n",
       "Wind Speed    0.067718   0.698795    1.000000     0.010603 -0.309978   \n",
       "Temperature  -0.032261  -0.039487    0.010603     1.000000 -0.376730   \n",
       "Pressure     -0.064939  -0.186249   -0.309978    -0.376730  1.000000   \n",
       "Dew Point    -0.000013  -0.163160   -0.142122     0.787864 -0.489134   \n",
       "Humidity     -0.011776  -0.106828   -0.110274     0.054401  0.033677   \n",
       "\n",
       "             Dew Point  Humidity  \n",
       "DEP_DELAY    -0.000013 -0.011776  \n",
       "Wind Gust    -0.163160 -0.106828  \n",
       "Wind Speed   -0.142122 -0.110274  \n",
       "Temperature   0.787864  0.054401  \n",
       "Pressure     -0.489134  0.033677  \n",
       "Dew Point     1.000000  0.195262  \n",
       "Humidity      0.195262  1.000000  "
      ]
     },
     "execution_count": 310,
     "metadata": {},
     "output_type": "execute_result"
    }
   ],
   "source": [
    "#corr with wind gust and wind speed and dep delay\n",
    "df[['DEP_DELAY', 'Wind Gust', 'Wind Speed','Temperature','Pressure','Dew Point','Humidity']].corr()\n"
   ]
  },
  {
   "cell_type": "code",
   "execution_count": 311,
   "outputs": [
    {
     "name": "stdout",
     "output_type": "stream",
     "text": [
      "{'Cloudy': 0, 'Cloudy / Windy': 1, 'Drizzle and Fog': 2, 'Fair': 3, 'Fair / Windy': 4, 'Fog': 5, 'Fog / Windy': 6, 'Heavy Rain': 7, 'Heavy Rain / Windy': 8, 'Light Drizzle': 9, 'Light Drizzle / Windy': 10, 'Light Freezing Rain': 11, 'Light Rain': 12, 'Light Rain / Windy': 13, 'Light Snow': 14, 'Light Snow / Windy': 15, 'Mostly Cloudy': 16, 'Mostly Cloudy / Windy': 17, 'Partly Cloudy': 18, 'Partly Cloudy / Windy': 19, 'Rain': 20, 'Rain / Windy': 21, 'Snow': 22, 'Wintry Mix': 23, 'Wintry Mix / Windy': 24}\n"
     ]
    }
   ],
   "source": [
    "# Label encoding for conditions and save mapping\n",
    "le_cond = LabelEncoder()\n",
    "df['Condition'] = le_cond.fit_transform(df['Condition'])\n",
    "le_name_mapping_cond = dict(zip(le_cond.classes_, le_cond.transform(le_cond.classes_)))\n",
    "print(le_name_mapping_cond)"
   ]
  },
  {
   "cell_type": "code",
   "execution_count": 312,
   "outputs": [
    {
     "data": {
      "text/plain": [
       "Condition_unencoded\n",
       "Mostly Cloudy            9124\n",
       "Fair                     5038\n",
       "Cloudy                   4992\n",
       "Partly Cloudy            3209\n",
       "Light Rain               1865\n",
       "Mostly Cloudy / Windy    1442\n",
       "Fair / Windy              918\n",
       "Partly Cloudy / Windy     582\n",
       "Rain                      351\n",
       "Cloudy / Windy            341\n",
       "Light Rain / Windy        288\n",
       "Light Drizzle             194\n",
       "Fog                       147\n",
       "Wintry Mix                 83\n",
       "Light Snow                 76\n",
       "Heavy Rain                 54\n",
       "Fog / Windy                28\n",
       "Rain / Windy               25\n",
       "Light Snow / Windy         24\n",
       "Light Drizzle / Windy      18\n",
       "Heavy Rain / Windy          6\n",
       "Drizzle and Fog             5\n",
       "Light Freezing Rain         4\n",
       "Wintry Mix / Windy          4\n",
       "Snow                        2\n",
       "Name: count, dtype: int64"
      ]
     },
     "execution_count": 312,
     "metadata": {},
     "output_type": "execute_result"
    }
   ],
   "source": [
    "#how many conditions have windy in it\n",
    "df['Condition'].value_counts()\n",
    "# remove label encoding\n",
    "df['Condition_unencoded'] = le_cond.inverse_transform(df['Condition'])\n",
    "df['Condition_unencoded'].value_counts()"
   ]
  },
  {
   "cell_type": "code",
   "execution_count": 313,
   "outputs": [
    {
     "data": {
      "text/plain": "                        max  min       mean\nCondition_unencoded                        \nCloudy                 1048  -22   5.316106\nCloudy / Windy          372  -15  18.695015\nDrizzle and Fog           7   -7  -3.000000\nFair                    830  -18   6.032553\nFair / Windy           1276  -15   9.896514\nFog                     132  -13   2.639456\nFog / Windy             390  -11  25.892857\nHeavy Rain              325   -9  35.611111\nHeavy Rain / Windy       50  -19   1.166667\nLight Drizzle           228  -16   3.958763\nLight Drizzle / Windy    47  -10  -0.722222\nLight Freezing Rain     281   -7  70.000000\nLight Rain              624  -18   9.595710\nLight Rain / Windy      195  -18   6.236111\nLight Snow              421  -14  15.144737\nLight Snow / Windy      337  -10  63.625000\nMostly Cloudy          1148  -20   4.820802\nMostly Cloudy / Windy   322  -18   5.855756\nPartly Cloudy           360  -18   5.227174\nPartly Cloudy / Windy  1199  -11  15.950172\nRain                    283  -13  14.495726\nRain / Windy            131  -12   3.800000\nSnow                     -4   -4  -4.000000\nWintry Mix              149  -10  12.337349\nWintry Mix / Windy      165   -2  54.750000",
      "text/html": "<div>\n<style scoped>\n    .dataframe tbody tr th:only-of-type {\n        vertical-align: middle;\n    }\n\n    .dataframe tbody tr th {\n        vertical-align: top;\n    }\n\n    .dataframe thead th {\n        text-align: right;\n    }\n</style>\n<table border=\"1\" class=\"dataframe\">\n  <thead>\n    <tr style=\"text-align: right;\">\n      <th></th>\n      <th>max</th>\n      <th>min</th>\n      <th>mean</th>\n    </tr>\n    <tr>\n      <th>Condition_unencoded</th>\n      <th></th>\n      <th></th>\n      <th></th>\n    </tr>\n  </thead>\n  <tbody>\n    <tr>\n      <th>Cloudy</th>\n      <td>1048</td>\n      <td>-22</td>\n      <td>5.316106</td>\n    </tr>\n    <tr>\n      <th>Cloudy / Windy</th>\n      <td>372</td>\n      <td>-15</td>\n      <td>18.695015</td>\n    </tr>\n    <tr>\n      <th>Drizzle and Fog</th>\n      <td>7</td>\n      <td>-7</td>\n      <td>-3.000000</td>\n    </tr>\n    <tr>\n      <th>Fair</th>\n      <td>830</td>\n      <td>-18</td>\n      <td>6.032553</td>\n    </tr>\n    <tr>\n      <th>Fair / Windy</th>\n      <td>1276</td>\n      <td>-15</td>\n      <td>9.896514</td>\n    </tr>\n    <tr>\n      <th>Fog</th>\n      <td>132</td>\n      <td>-13</td>\n      <td>2.639456</td>\n    </tr>\n    <tr>\n      <th>Fog / Windy</th>\n      <td>390</td>\n      <td>-11</td>\n      <td>25.892857</td>\n    </tr>\n    <tr>\n      <th>Heavy Rain</th>\n      <td>325</td>\n      <td>-9</td>\n      <td>35.611111</td>\n    </tr>\n    <tr>\n      <th>Heavy Rain / Windy</th>\n      <td>50</td>\n      <td>-19</td>\n      <td>1.166667</td>\n    </tr>\n    <tr>\n      <th>Light Drizzle</th>\n      <td>228</td>\n      <td>-16</td>\n      <td>3.958763</td>\n    </tr>\n    <tr>\n      <th>Light Drizzle / Windy</th>\n      <td>47</td>\n      <td>-10</td>\n      <td>-0.722222</td>\n    </tr>\n    <tr>\n      <th>Light Freezing Rain</th>\n      <td>281</td>\n      <td>-7</td>\n      <td>70.000000</td>\n    </tr>\n    <tr>\n      <th>Light Rain</th>\n      <td>624</td>\n      <td>-18</td>\n      <td>9.595710</td>\n    </tr>\n    <tr>\n      <th>Light Rain / Windy</th>\n      <td>195</td>\n      <td>-18</td>\n      <td>6.236111</td>\n    </tr>\n    <tr>\n      <th>Light Snow</th>\n      <td>421</td>\n      <td>-14</td>\n      <td>15.144737</td>\n    </tr>\n    <tr>\n      <th>Light Snow / Windy</th>\n      <td>337</td>\n      <td>-10</td>\n      <td>63.625000</td>\n    </tr>\n    <tr>\n      <th>Mostly Cloudy</th>\n      <td>1148</td>\n      <td>-20</td>\n      <td>4.820802</td>\n    </tr>\n    <tr>\n      <th>Mostly Cloudy / Windy</th>\n      <td>322</td>\n      <td>-18</td>\n      <td>5.855756</td>\n    </tr>\n    <tr>\n      <th>Partly Cloudy</th>\n      <td>360</td>\n      <td>-18</td>\n      <td>5.227174</td>\n    </tr>\n    <tr>\n      <th>Partly Cloudy / Windy</th>\n      <td>1199</td>\n      <td>-11</td>\n      <td>15.950172</td>\n    </tr>\n    <tr>\n      <th>Rain</th>\n      <td>283</td>\n      <td>-13</td>\n      <td>14.495726</td>\n    </tr>\n    <tr>\n      <th>Rain / Windy</th>\n      <td>131</td>\n      <td>-12</td>\n      <td>3.800000</td>\n    </tr>\n    <tr>\n      <th>Snow</th>\n      <td>-4</td>\n      <td>-4</td>\n      <td>-4.000000</td>\n    </tr>\n    <tr>\n      <th>Wintry Mix</th>\n      <td>149</td>\n      <td>-10</td>\n      <td>12.337349</td>\n    </tr>\n    <tr>\n      <th>Wintry Mix / Windy</th>\n      <td>165</td>\n      <td>-2</td>\n      <td>54.750000</td>\n    </tr>\n  </tbody>\n</table>\n</div>"
     },
     "execution_count": 313,
     "metadata": {},
     "output_type": "execute_result"
    },
    {
     "data": {
      "text/plain": "<Figure size 1200x1200 with 1 Axes>"
     },
     "metadata": {},
     "output_type": "display_data"
    }
   ],
   "source": [
    "# plot dep delay vs condition min max and mean and create a table too\n",
    "df.groupby('Condition_unencoded')['DEP_DELAY'].agg(['max', 'min', 'mean']).plot(kind='bar', figsize=(12,12))\n",
    "df.groupby('Condition_unencoded')['DEP_DELAY'].agg(['max', 'min', 'mean'])"
   ],
   "metadata": {
    "collapsed": false
   }
  },
  {
   "cell_type": "code",
   "execution_count": 314,
   "outputs": [
    {
     "data": {
      "text/plain": "                        max  min       mean\nCondition_unencoded                        \nLight Freezing Rain     281   -7  70.000000\nLight Snow / Windy      337  -10  63.625000\nWintry Mix / Windy      165   -2  54.750000\nHeavy Rain              325   -9  35.611111\nFog / Windy             390  -11  25.892857\nCloudy / Windy          372  -15  18.695015\nPartly Cloudy / Windy  1199  -11  15.950172\nLight Snow              421  -14  15.144737\nRain                    283  -13  14.495726\nWintry Mix              149  -10  12.337349\nFair / Windy           1276  -15   9.896514\nLight Rain              624  -18   9.595710\nLight Rain / Windy      195  -18   6.236111\nFair                    830  -18   6.032553\nMostly Cloudy / Windy   322  -18   5.855756\nCloudy                 1048  -22   5.316106\nPartly Cloudy           360  -18   5.227174\nMostly Cloudy          1148  -20   4.820802\nLight Drizzle           228  -16   3.958763\nRain / Windy            131  -12   3.800000\nFog                     132  -13   2.639456\nHeavy Rain / Windy       50  -19   1.166667\nLight Drizzle / Windy    47  -10  -0.722222\nDrizzle and Fog           7   -7  -3.000000\nSnow                     -4   -4  -4.000000",
      "text/html": "<div>\n<style scoped>\n    .dataframe tbody tr th:only-of-type {\n        vertical-align: middle;\n    }\n\n    .dataframe tbody tr th {\n        vertical-align: top;\n    }\n\n    .dataframe thead th {\n        text-align: right;\n    }\n</style>\n<table border=\"1\" class=\"dataframe\">\n  <thead>\n    <tr style=\"text-align: right;\">\n      <th></th>\n      <th>max</th>\n      <th>min</th>\n      <th>mean</th>\n    </tr>\n    <tr>\n      <th>Condition_unencoded</th>\n      <th></th>\n      <th></th>\n      <th></th>\n    </tr>\n  </thead>\n  <tbody>\n    <tr>\n      <th>Light Freezing Rain</th>\n      <td>281</td>\n      <td>-7</td>\n      <td>70.000000</td>\n    </tr>\n    <tr>\n      <th>Light Snow / Windy</th>\n      <td>337</td>\n      <td>-10</td>\n      <td>63.625000</td>\n    </tr>\n    <tr>\n      <th>Wintry Mix / Windy</th>\n      <td>165</td>\n      <td>-2</td>\n      <td>54.750000</td>\n    </tr>\n    <tr>\n      <th>Heavy Rain</th>\n      <td>325</td>\n      <td>-9</td>\n      <td>35.611111</td>\n    </tr>\n    <tr>\n      <th>Fog / Windy</th>\n      <td>390</td>\n      <td>-11</td>\n      <td>25.892857</td>\n    </tr>\n    <tr>\n      <th>Cloudy / Windy</th>\n      <td>372</td>\n      <td>-15</td>\n      <td>18.695015</td>\n    </tr>\n    <tr>\n      <th>Partly Cloudy / Windy</th>\n      <td>1199</td>\n      <td>-11</td>\n      <td>15.950172</td>\n    </tr>\n    <tr>\n      <th>Light Snow</th>\n      <td>421</td>\n      <td>-14</td>\n      <td>15.144737</td>\n    </tr>\n    <tr>\n      <th>Rain</th>\n      <td>283</td>\n      <td>-13</td>\n      <td>14.495726</td>\n    </tr>\n    <tr>\n      <th>Wintry Mix</th>\n      <td>149</td>\n      <td>-10</td>\n      <td>12.337349</td>\n    </tr>\n    <tr>\n      <th>Fair / Windy</th>\n      <td>1276</td>\n      <td>-15</td>\n      <td>9.896514</td>\n    </tr>\n    <tr>\n      <th>Light Rain</th>\n      <td>624</td>\n      <td>-18</td>\n      <td>9.595710</td>\n    </tr>\n    <tr>\n      <th>Light Rain / Windy</th>\n      <td>195</td>\n      <td>-18</td>\n      <td>6.236111</td>\n    </tr>\n    <tr>\n      <th>Fair</th>\n      <td>830</td>\n      <td>-18</td>\n      <td>6.032553</td>\n    </tr>\n    <tr>\n      <th>Mostly Cloudy / Windy</th>\n      <td>322</td>\n      <td>-18</td>\n      <td>5.855756</td>\n    </tr>\n    <tr>\n      <th>Cloudy</th>\n      <td>1048</td>\n      <td>-22</td>\n      <td>5.316106</td>\n    </tr>\n    <tr>\n      <th>Partly Cloudy</th>\n      <td>360</td>\n      <td>-18</td>\n      <td>5.227174</td>\n    </tr>\n    <tr>\n      <th>Mostly Cloudy</th>\n      <td>1148</td>\n      <td>-20</td>\n      <td>4.820802</td>\n    </tr>\n    <tr>\n      <th>Light Drizzle</th>\n      <td>228</td>\n      <td>-16</td>\n      <td>3.958763</td>\n    </tr>\n    <tr>\n      <th>Rain / Windy</th>\n      <td>131</td>\n      <td>-12</td>\n      <td>3.800000</td>\n    </tr>\n    <tr>\n      <th>Fog</th>\n      <td>132</td>\n      <td>-13</td>\n      <td>2.639456</td>\n    </tr>\n    <tr>\n      <th>Heavy Rain / Windy</th>\n      <td>50</td>\n      <td>-19</td>\n      <td>1.166667</td>\n    </tr>\n    <tr>\n      <th>Light Drizzle / Windy</th>\n      <td>47</td>\n      <td>-10</td>\n      <td>-0.722222</td>\n    </tr>\n    <tr>\n      <th>Drizzle and Fog</th>\n      <td>7</td>\n      <td>-7</td>\n      <td>-3.000000</td>\n    </tr>\n    <tr>\n      <th>Snow</th>\n      <td>-4</td>\n      <td>-4</td>\n      <td>-4.000000</td>\n    </tr>\n  </tbody>\n</table>\n</div>"
     },
     "execution_count": 314,
     "metadata": {},
     "output_type": "execute_result"
    }
   ],
   "source": [
    "#which condition has the most mean delay time\n",
    "df.groupby('Condition_unencoded')['DEP_DELAY'].agg(['max', 'min', 'mean']).sort_values(by='mean', ascending=False)"
   ],
   "metadata": {
    "collapsed": false
   }
  },
  {
   "cell_type": "markdown",
   "source": [
    "This means usually long delay happens due to 11,15,24 which are light freezing rain, light snow with wind and wintry mix/windy"
   ],
   "metadata": {
    "collapsed": false
   }
  },
  {
   "cell_type": "code",
   "execution_count": 315,
   "outputs": [
    {
     "data": {
      "text/plain": "                        max  min       mean  median  \\\nCondition_unencoded                                   \nCloudy                 1048  -22   5.316106    -3.0   \nCloudy / Windy          372  -15  18.695015    -3.0   \nDrizzle and Fog           7   -7  -3.000000    -5.0   \nFair                    830  -18   6.032553    -3.0   \nFair / Windy           1276  -15   9.896514    -2.0   \nFog                     132  -13   2.639456    -3.0   \nFog / Windy             390  -11  25.892857     0.5   \nHeavy Rain              325   -9  35.611111     9.0   \nHeavy Rain / Windy       50  -19   1.166667    -6.5   \nLight Drizzle           228  -16   3.958763    -3.0   \nLight Drizzle / Windy    47  -10  -0.722222    -2.5   \nLight Freezing Rain     281   -7  70.000000     3.0   \nLight Rain              624  -18   9.595710    -2.0   \nLight Rain / Windy      195  -18   6.236111    -3.0   \nLight Snow              421  -14  15.144737    -1.5   \nLight Snow / Windy      337  -10  63.625000    42.0   \nMostly Cloudy          1148  -20   4.820802    -3.0   \nMostly Cloudy / Windy   322  -18   5.855756    -3.0   \nPartly Cloudy           360  -18   5.227174    -3.0   \nPartly Cloudy / Windy  1199  -11  15.950172    -2.0   \nRain                    283  -13  14.495726     0.0   \nRain / Windy            131  -12   3.800000    -5.0   \nSnow                     -4   -4  -4.000000    -4.0   \nWintry Mix              149  -10  12.337349     0.0   \nWintry Mix / Windy      165   -2  54.750000    28.0   \n\n                                                                    mode  \nCondition_unencoded                                                       \nCloudy                                                                -5  \nCloudy / Windy                                                        -5  \nDrizzle and Fog                                      [-7, -6, -5, -4, 7]  \nFair                                                                  -5  \nFair / Windy                                                          -5  \nFog                                                                   -5  \nFog / Windy                                                            0  \nHeavy Rain                                                            -7  \nHeavy Rain / Windy                            [-19, -10, -9, -4, -1, 50]  \nLight Drizzle                                                         -6  \nLight Drizzle / Windy                                           [-8, -2]  \nLight Freezing Rain                                      [-7, 2, 4, 281]  \nLight Rain                                                            -5  \nLight Rain / Windy                                                    -4  \nLight Snow                                                            -2  \nLight Snow / Windy     [-10, -9, -5, -4, -1, 0, 3, 7, 10, 23, 31, 39,...  \nMostly Cloudy                                                         -5  \nMostly Cloudy / Windy                                                 -4  \nPartly Cloudy                                                         -5  \nPartly Cloudy / Windy                                                 -5  \nRain                                                                  -5  \nRain / Windy                                                    [-9, -5]  \nSnow                                                                  -4  \nWintry Mix                                                       [-3, 0]  \nWintry Mix / Windy                                     [-2, 14, 42, 165]  ",
      "text/html": "<div>\n<style scoped>\n    .dataframe tbody tr th:only-of-type {\n        vertical-align: middle;\n    }\n\n    .dataframe tbody tr th {\n        vertical-align: top;\n    }\n\n    .dataframe thead th {\n        text-align: right;\n    }\n</style>\n<table border=\"1\" class=\"dataframe\">\n  <thead>\n    <tr style=\"text-align: right;\">\n      <th></th>\n      <th>max</th>\n      <th>min</th>\n      <th>mean</th>\n      <th>median</th>\n      <th>mode</th>\n    </tr>\n    <tr>\n      <th>Condition_unencoded</th>\n      <th></th>\n      <th></th>\n      <th></th>\n      <th></th>\n      <th></th>\n    </tr>\n  </thead>\n  <tbody>\n    <tr>\n      <th>Cloudy</th>\n      <td>1048</td>\n      <td>-22</td>\n      <td>5.316106</td>\n      <td>-3.0</td>\n      <td>-5</td>\n    </tr>\n    <tr>\n      <th>Cloudy / Windy</th>\n      <td>372</td>\n      <td>-15</td>\n      <td>18.695015</td>\n      <td>-3.0</td>\n      <td>-5</td>\n    </tr>\n    <tr>\n      <th>Drizzle and Fog</th>\n      <td>7</td>\n      <td>-7</td>\n      <td>-3.000000</td>\n      <td>-5.0</td>\n      <td>[-7, -6, -5, -4, 7]</td>\n    </tr>\n    <tr>\n      <th>Fair</th>\n      <td>830</td>\n      <td>-18</td>\n      <td>6.032553</td>\n      <td>-3.0</td>\n      <td>-5</td>\n    </tr>\n    <tr>\n      <th>Fair / Windy</th>\n      <td>1276</td>\n      <td>-15</td>\n      <td>9.896514</td>\n      <td>-2.0</td>\n      <td>-5</td>\n    </tr>\n    <tr>\n      <th>Fog</th>\n      <td>132</td>\n      <td>-13</td>\n      <td>2.639456</td>\n      <td>-3.0</td>\n      <td>-5</td>\n    </tr>\n    <tr>\n      <th>Fog / Windy</th>\n      <td>390</td>\n      <td>-11</td>\n      <td>25.892857</td>\n      <td>0.5</td>\n      <td>0</td>\n    </tr>\n    <tr>\n      <th>Heavy Rain</th>\n      <td>325</td>\n      <td>-9</td>\n      <td>35.611111</td>\n      <td>9.0</td>\n      <td>-7</td>\n    </tr>\n    <tr>\n      <th>Heavy Rain / Windy</th>\n      <td>50</td>\n      <td>-19</td>\n      <td>1.166667</td>\n      <td>-6.5</td>\n      <td>[-19, -10, -9, -4, -1, 50]</td>\n    </tr>\n    <tr>\n      <th>Light Drizzle</th>\n      <td>228</td>\n      <td>-16</td>\n      <td>3.958763</td>\n      <td>-3.0</td>\n      <td>-6</td>\n    </tr>\n    <tr>\n      <th>Light Drizzle / Windy</th>\n      <td>47</td>\n      <td>-10</td>\n      <td>-0.722222</td>\n      <td>-2.5</td>\n      <td>[-8, -2]</td>\n    </tr>\n    <tr>\n      <th>Light Freezing Rain</th>\n      <td>281</td>\n      <td>-7</td>\n      <td>70.000000</td>\n      <td>3.0</td>\n      <td>[-7, 2, 4, 281]</td>\n    </tr>\n    <tr>\n      <th>Light Rain</th>\n      <td>624</td>\n      <td>-18</td>\n      <td>9.595710</td>\n      <td>-2.0</td>\n      <td>-5</td>\n    </tr>\n    <tr>\n      <th>Light Rain / Windy</th>\n      <td>195</td>\n      <td>-18</td>\n      <td>6.236111</td>\n      <td>-3.0</td>\n      <td>-4</td>\n    </tr>\n    <tr>\n      <th>Light Snow</th>\n      <td>421</td>\n      <td>-14</td>\n      <td>15.144737</td>\n      <td>-1.5</td>\n      <td>-2</td>\n    </tr>\n    <tr>\n      <th>Light Snow / Windy</th>\n      <td>337</td>\n      <td>-10</td>\n      <td>63.625000</td>\n      <td>42.0</td>\n      <td>[-10, -9, -5, -4, -1, 0, 3, 7, 10, 23, 31, 39,...</td>\n    </tr>\n    <tr>\n      <th>Mostly Cloudy</th>\n      <td>1148</td>\n      <td>-20</td>\n      <td>4.820802</td>\n      <td>-3.0</td>\n      <td>-5</td>\n    </tr>\n    <tr>\n      <th>Mostly Cloudy / Windy</th>\n      <td>322</td>\n      <td>-18</td>\n      <td>5.855756</td>\n      <td>-3.0</td>\n      <td>-4</td>\n    </tr>\n    <tr>\n      <th>Partly Cloudy</th>\n      <td>360</td>\n      <td>-18</td>\n      <td>5.227174</td>\n      <td>-3.0</td>\n      <td>-5</td>\n    </tr>\n    <tr>\n      <th>Partly Cloudy / Windy</th>\n      <td>1199</td>\n      <td>-11</td>\n      <td>15.950172</td>\n      <td>-2.0</td>\n      <td>-5</td>\n    </tr>\n    <tr>\n      <th>Rain</th>\n      <td>283</td>\n      <td>-13</td>\n      <td>14.495726</td>\n      <td>0.0</td>\n      <td>-5</td>\n    </tr>\n    <tr>\n      <th>Rain / Windy</th>\n      <td>131</td>\n      <td>-12</td>\n      <td>3.800000</td>\n      <td>-5.0</td>\n      <td>[-9, -5]</td>\n    </tr>\n    <tr>\n      <th>Snow</th>\n      <td>-4</td>\n      <td>-4</td>\n      <td>-4.000000</td>\n      <td>-4.0</td>\n      <td>-4</td>\n    </tr>\n    <tr>\n      <th>Wintry Mix</th>\n      <td>149</td>\n      <td>-10</td>\n      <td>12.337349</td>\n      <td>0.0</td>\n      <td>[-3, 0]</td>\n    </tr>\n    <tr>\n      <th>Wintry Mix / Windy</th>\n      <td>165</td>\n      <td>-2</td>\n      <td>54.750000</td>\n      <td>28.0</td>\n      <td>[-2, 14, 42, 165]</td>\n    </tr>\n  </tbody>\n</table>\n</div>"
     },
     "execution_count": 315,
     "metadata": {},
     "output_type": "execute_result"
    }
   ],
   "source": [
    "# print mode of each condition\n",
    "df.groupby('Condition_unencoded')['DEP_DELAY'].agg(['max', 'min', 'mean','median',pd.Series.mode])\n",
    "\n",
    "\n"
   ],
   "metadata": {
    "collapsed": false
   }
  },
  {
   "cell_type": "code",
   "execution_count": 316,
   "outputs": [
    {
     "data": {
      "text/plain": "Condition_unencoded\nMostly Cloudy            9124\nFair                     5038\nCloudy                   4992\nPartly Cloudy            3209\nLight Rain               1865\nMostly Cloudy / Windy    1442\nFair / Windy              918\nPartly Cloudy / Windy     582\nRain                      351\nCloudy / Windy            341\nLight Rain / Windy        288\nLight Drizzle             194\nFog                       147\nWintry Mix                 83\nLight Snow                 76\nHeavy Rain                 54\nFog / Windy                28\nRain / Windy               25\nLight Snow / Windy         24\nLight Drizzle / Windy      18\nHeavy Rain / Windy          6\nDrizzle and Fog             5\nLight Freezing Rain         4\nWintry Mix / Windy          4\nSnow                        2\nName: count, dtype: int64"
     },
     "execution_count": 316,
     "metadata": {},
     "output_type": "execute_result"
    }
   ],
   "source": [
    "df['Condition_unencoded'].value_counts()"
   ],
   "metadata": {
    "collapsed": false
   }
  },
  {
   "cell_type": "markdown",
   "source": [
    "Snow is very less\n",
    "Light freezing rain, Wintry Mix / windy data points is very less but mean delay time is very high\n",
    "Light snow/windy is fine\n",
    "Partly cloudy/windy and cloudy/windy will be merged cuz their mean delay time is almost same.\n",
    "Mostly cloudy/windy , cloudy , partially cloudy, mostly cloudy will be merged cuz their mean delay time is almost same.\n",
    "\n",
    "Here I merged some conditions based on their mean,mode and median delay time"
   ],
   "metadata": {
    "collapsed": false
   }
  },
  {
   "cell_type": "code",
   "execution_count": 317,
   "outputs": [],
   "source": [
    "# make condition encoding same for Partly cloudy/windy and cloudy/windy\n",
    "df_pre = df.copy()\n",
    "df_pre['DEP_DELAY'] = df_pre['DEP_DELAY'].apply(lambda x: 1 if x>15 else 0)\n",
    "\n",
    "df_pre['Condition_unencoded'] = df_pre['Condition_unencoded'].replace('Partly Cloudy / Windy', 'Cloudy / Windy')\n",
    "df_pre['Condition_unencoded'] = df_pre['Condition_unencoded'].replace('Mostly Cloudy / Windy', 'Cloudy / Windy')\n",
    "# make condition encoding same for Mostly cloudy/windy , cloudy , partially cloudy, mostly cloudy\n",
    "# df_pre['Condition_unencoded'] = df_pre['Condition_unencoded'].replace('Mostly Cloudy', 'Cloudy')\n",
    "df_pre['Condition_unencoded'] = df_pre['Condition_unencoded'].replace('Partly Cloudy', 'Cloudy')\n",
    "df_pre['Condition_unencoded'] = df_pre['Condition_unencoded'].replace('Mostly Cloudy', 'Cloudy')\n",
    "df_pre['Condition_unencoded'] = df_pre['Condition_unencoded'].replace('Fair / Windy', 'Fair')\n",
    "df_pre['Condition_unencoded'] = df_pre['Condition_unencoded'].replace('Light Rain / Windy', 'Light Rain')\n",
    "df_pre['Condition_unencoded'] = df_pre['Condition_unencoded'].replace('Light Drizzle', 'Rain / Windy')\n",
    "# light freezinf rain, light snow with wind and wintry mix/windy will be merged\n",
    "df_pre['Condition_unencoded'] = df_pre['Condition_unencoded'].replace('Light Freezing Rain', 'Light Snow / Windy')\n",
    "df_pre['Condition_unencoded'] = df_pre['Condition_unencoded'].replace('Wintry Mix / Windy', 'Light Snow / Windy')\n",
    "# Rain, Light Rain, Rain / Windy will be merged\n",
    "df_pre['Condition_unencoded'] = df_pre['Condition_unencoded'].replace('Light Rain', 'Rain')\n",
    "df_pre['Condition_unencoded'] = df_pre['Condition_unencoded'].replace('Rain / Windy', 'Rain')\n",
    "\n"
   ],
   "metadata": {
    "collapsed": false
   }
  },
  {
   "cell_type": "code",
   "execution_count": 334,
   "outputs": [
    {
     "name": "stdout",
     "output_type": "stream",
     "text": [
      "DEP_DELAY\n",
      "0    24946\n",
      "1     3874\n",
      "Name: count, dtype: int64\n"
     ]
    }
   ],
   "source": [
    "print(df_pre['DEP_DELAY'].value_counts())"
   ],
   "metadata": {
    "collapsed": false
   }
  },
  {
   "cell_type": "code",
   "execution_count": 318,
   "outputs": [
    {
     "data": {
      "text/plain": "Condition_unencoded\nCloudy                   17325\nFair                      5956\nRain                      2723\nCloudy / Windy            2365\nFog                        147\nWintry Mix                  83\nLight Snow                  76\nHeavy Rain                  54\nLight Snow / Windy          32\nFog / Windy                 28\nLight Drizzle / Windy       18\nHeavy Rain / Windy           6\nDrizzle and Fog              5\nSnow                         2\nName: count, dtype: int64"
     },
     "execution_count": 318,
     "metadata": {},
     "output_type": "execute_result"
    }
   ],
   "source": [
    "df_pre.drop(['Condition'], axis=1, inplace=True)\n",
    "df_pre['Condition_unencoded'].value_counts()"
   ],
   "metadata": {
    "collapsed": false
   }
  },
  {
   "cell_type": "markdown",
   "source": [
    "Cloudy is too much"
   ],
   "metadata": {
    "collapsed": false
   }
  },
  {
   "cell_type": "code",
   "execution_count": 318,
   "outputs": [],
   "source": [],
   "metadata": {
    "collapsed": false
   }
  },
  {
   "cell_type": "code",
   "execution_count": 318,
   "outputs": [],
   "source": [],
   "metadata": {
    "collapsed": false
   }
  },
  {
   "cell_type": "code",
   "execution_count": 319,
   "outputs": [
    {
     "name": "stdout",
     "output_type": "stream",
     "text": [
      "{'Cloudy': 0, 'Cloudy / Windy': 1, 'Drizzle and Fog': 2, 'Fair': 3, 'Fog': 4, 'Fog / Windy': 5, 'Heavy Rain': 6, 'Heavy Rain / Windy': 7, 'Light Drizzle / Windy': 8, 'Light Snow': 9, 'Light Snow / Windy': 10, 'Rain': 11, 'Snow': 12, 'Wintry Mix': 13}\n",
      "{'ABQ': 0, 'ATL': 1, 'AUS': 2, 'BNA': 3, 'BOS': 4, 'BQN': 5, 'BTV': 6, 'BUF': 7, 'BUR': 8, 'BWI': 9, 'CHS': 10, 'CLE': 11, 'CLT': 12, 'CMH': 13, 'CVG': 14, 'DCA': 15, 'DEN': 16, 'DFW': 17, 'DTW': 18, 'EGE': 19, 'FLL': 20, 'HNL': 21, 'IAD': 22, 'IAH': 23, 'IND': 24, 'JAC': 25, 'JAX': 26, 'LAS': 27, 'LAX': 28, 'LGB': 29, 'MCO': 30, 'MIA': 31, 'MSP': 32, 'MSY': 33, 'OAK': 34, 'ONT': 35, 'ORD': 36, 'ORF': 37, 'ORH': 38, 'PBI': 39, 'PDX': 40, 'PHL': 41, 'PHX': 42, 'PIT': 43, 'PSE': 44, 'PSP': 45, 'PWM': 46, 'RDU': 47, 'RIC': 48, 'RNO': 49, 'ROC': 50, 'RSW': 51, 'SAN': 52, 'SAT': 53, 'SAV': 54, 'SEA': 55, 'SFO': 56, 'SJC': 57, 'SJU': 58, 'SLC': 59, 'SMF': 60, 'SRQ': 61, 'STT': 62, 'SYR': 63, 'TPA': 64}\n",
      "{'-1': 0, '-2': 1, '-3': 2, '0\\xa0': 3, '10': 4, '11': 5, '12': 6, '13': 7, '14': 8, '15': 9, '16': 10, '17': 11, '18': 12, '19': 13, '1\\xa0': 14, '20': 15, '21': 16, '22': 17, '23': 18, '24': 19, '25': 20, '26': 21, '27': 22, '28': 23, '29': 24, '2\\xa0': 25, '30': 26, '31': 27, '32': 28, '33': 29, '34': 30, '35': 31, '36': 32, '37': 33, '38': 34, '39': 35, '3\\xa0': 36, '40': 37, '41': 38, '42': 39, '43': 40, '44': 41, '45': 42, '46': 43, '47': 44, '48': 45, '49': 46, '4\\xa0': 47, '50': 48, '51': 49, '52': 50, '53': 51, '54': 52, '55': 53, '56': 54, '57': 55, '58': 56, '59': 57, '5\\xa0': 58, '67': 59, '6\\xa0': 60, '7\\xa0': 61, '8\\xa0': 62, '9\\xa0': 63}\n",
      "{'CALM': 0, 'E': 1, 'ENE': 2, 'ESE': 3, 'N': 4, 'NE': 5, 'NNE': 6, 'NNW': 7, 'NW': 8, 'S': 9, 'SE': 10, 'SSE': 11, 'SSW': 12, 'SW': 13, 'VAR': 14, 'W': 15, 'WNW': 16, 'WSW': 17, nan: 18}\n"
     ]
    }
   ],
   "source": [
    "# df_pre  = df.copy()\n",
    "lb = LabelEncoder()\n",
    "df_pre['Condition'] = lb.fit_transform(df_pre['Condition_unencoded'])\n",
    "lb_name_mapping = dict(zip(lb.classes_, lb.transform(lb.classes_)))\n",
    "print(lb_name_mapping)\n",
    "lb_dest = LabelEncoder()\n",
    "df_pre['DEST'] = lb_dest.fit_transform(df_pre['DEST'])\n",
    "lb_name_mapping_dest = dict(zip(lb_dest.classes_, lb_dest.transform(lb_dest.classes_)))\n",
    "print(lb_name_mapping_dest)\n",
    "lb_dew = LabelEncoder()\n",
    "df_pre['Dew Point'] = lb_dew.fit_transform(df_pre['Dew Point'])\n",
    "lb_name_mapping_dew = dict(zip(lb_dew.classes_, lb_dew.transform(lb_dew.classes_)))\n",
    "print(lb_name_mapping_dew)\n",
    "lb_wind = LabelEncoder()\n",
    "df_pre['Wind'] = lb_wind.fit_transform(df_pre['Wind'])\n",
    "lb_name_mapping_wind = dict(zip(lb_wind.classes_, lb_wind.transform(lb_wind.classes_)))\n",
    "print(lb_name_mapping_wind)\n",
    "\n"
   ],
   "metadata": {
    "collapsed": false
   }
  },
  {
   "cell_type": "code",
   "execution_count": 320,
   "outputs": [],
   "source": [
    "df_pre.drop(['Condition_unencoded'], axis=1, inplace=True)\n",
    "df_pre.drop(['TAIL_NUM'], axis=1, inplace=True)\n",
    "\n",
    "x = df_pre.drop(['DEP_DELAY'], axis=1)\n",
    "y = df_pre['DEP_DELAY']"
   ],
   "metadata": {
    "collapsed": false
   }
  },
  {
   "cell_type": "code",
   "execution_count": 321,
   "outputs": [
    {
     "name": "stdout",
     "output_type": "stream",
     "text": [
      "<class 'pandas.core.frame.DataFrame'>\n",
      "RangeIndex: 28820 entries, 0 to 28819\n",
      "Data columns (total 22 columns):\n",
      " #   Column             Non-Null Count  Dtype  \n",
      "---  ------             --------------  -----  \n",
      " 0   MONTH              28820 non-null  int64  \n",
      " 1   DAY_OF_MONTH       28820 non-null  int64  \n",
      " 2   DAY_OF_WEEK        28820 non-null  int64  \n",
      " 3   OP_UNIQUE_CARRIER  28820 non-null  int32  \n",
      " 4   DEST               28820 non-null  int32  \n",
      " 5   DEP_DELAY          28820 non-null  int64  \n",
      " 6   CRS_ELAPSED_TIME   28820 non-null  int64  \n",
      " 7   DISTANCE           28820 non-null  int64  \n",
      " 8   CRS_DEP_M          28820 non-null  int64  \n",
      " 9   DEP_TIME_M         28820 non-null  int64  \n",
      " 10  CRS_ARR_M          28820 non-null  int64  \n",
      " 11  Temperature        28820 non-null  int64  \n",
      " 12  Dew Point          28820 non-null  int32  \n",
      " 13  Humidity           28820 non-null  int64  \n",
      " 14  Wind               28820 non-null  int32  \n",
      " 15  Wind Speed         28820 non-null  int64  \n",
      " 16  Wind Gust          28820 non-null  int64  \n",
      " 17  Pressure           28820 non-null  float64\n",
      " 18  sch_dep            28820 non-null  int64  \n",
      " 19  sch_arr            28820 non-null  int64  \n",
      " 20  TAXI_OUT           28820 non-null  int64  \n",
      " 21  Condition          28820 non-null  int32  \n",
      "dtypes: float64(1), int32(5), int64(16)\n",
      "memory usage: 4.3 MB\n",
      "None\n",
      "(28820, 22)\n"
     ]
    }
   ],
   "source": [
    "print(df_pre.info())\n",
    "print(df_pre.shape)"
   ],
   "metadata": {
    "collapsed": false
   }
  },
  {
   "cell_type": "code",
   "execution_count": 333,
   "outputs": [],
   "source": [
    "# save df_pre as a new csv file\n",
    "df_pre.to_csv('df_preprocessed.csv', index=False)"
   ],
   "metadata": {
    "collapsed": false
   }
  }
 ],
 "metadata": {
  "kernelspec": {
   "display_name": "Python 3",
   "language": "python",
   "name": "python3"
  },
  "language_info": {
   "codemirror_mode": {
    "name": "ipython",
    "version": 3
   },
   "file_extension": ".py",
   "mimetype": "text/x-python",
   "name": "python",
   "nbconvert_exporter": "python",
   "pygments_lexer": "ipython3",
   "version": "3.11.5"
  }
 },
 "nbformat": 4,
 "nbformat_minor": 0
}
