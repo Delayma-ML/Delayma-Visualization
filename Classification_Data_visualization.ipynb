{
 "cells": [
  {
   "cell_type": "code",
<<<<<<< Updated upstream
   "execution_count": 11,
=======
   "execution_count": 300,
>>>>>>> Stashed changes
   "metadata": {
    "collapsed": true
   },
   "outputs": [],
   "source": [
    "import pandas as pd\n",
    "import numpy as np\n",
    "import matplotlib.pyplot as plt\n",
    "import seaborn as sns\n",
    "import os\n",
    "import re\n",
    "import imblearn\n",
    "from sklearn.decomposition import PCA\n",
    "\n"
   ]
  },
  {
   "cell_type": "code",
<<<<<<< Updated upstream
   "execution_count": 12,
   "metadata": {
    "collapsed": false
   },
=======
   "execution_count": 301,
>>>>>>> Stashed changes
   "outputs": [
    {
     "data": {
      "text/html": [
       "<div>\n",
       "<style scoped>\n",
       "    .dataframe tbody tr th:only-of-type {\n",
       "        vertical-align: middle;\n",
       "    }\n",
       "\n",
       "    .dataframe tbody tr th {\n",
       "        vertical-align: top;\n",
       "    }\n",
       "\n",
       "    .dataframe thead th {\n",
       "        text-align: right;\n",
       "    }\n",
       "</style>\n",
       "<table border=\"1\" class=\"dataframe\">\n",
       "  <thead>\n",
       "    <tr style=\"text-align: right;\">\n",
       "      <th></th>\n",
       "      <th>MONTH</th>\n",
       "      <th>DAY_OF_MONTH</th>\n",
       "      <th>DAY_OF_WEEK</th>\n",
       "      <th>OP_UNIQUE_CARRIER</th>\n",
       "      <th>TAIL_NUM</th>\n",
       "      <th>DEST</th>\n",
       "      <th>DEP_DELAY</th>\n",
       "      <th>CRS_ELAPSED_TIME</th>\n",
       "      <th>DISTANCE</th>\n",
       "      <th>CRS_DEP_M</th>\n",
       "      <th>...</th>\n",
       "      <th>Dew Point</th>\n",
       "      <th>Humidity</th>\n",
       "      <th>Wind</th>\n",
       "      <th>Wind Speed</th>\n",
       "      <th>Wind Gust</th>\n",
       "      <th>Pressure</th>\n",
       "      <th>Condition</th>\n",
       "      <th>sch_dep</th>\n",
       "      <th>sch_arr</th>\n",
       "      <th>TAXI_OUT</th>\n",
       "    </tr>\n",
       "  </thead>\n",
       "  <tbody>\n",
       "    <tr>\n",
       "      <th>0</th>\n",
       "      <td>11</td>\n",
       "      <td>1</td>\n",
       "      <td>5</td>\n",
       "      <td>B6</td>\n",
       "      <td>N828JB</td>\n",
       "      <td>CHS</td>\n",
       "      <td>-1</td>\n",
       "      <td>124</td>\n",
       "      <td>636</td>\n",
       "      <td>324</td>\n",
       "      <td>...</td>\n",
       "      <td>34</td>\n",
       "      <td>58</td>\n",
       "      <td>W</td>\n",
       "      <td>25</td>\n",
       "      <td>38</td>\n",
       "      <td>29.86</td>\n",
       "      <td>Fair / Windy</td>\n",
       "      <td>9</td>\n",
       "      <td>17</td>\n",
       "      <td>14</td>\n",
       "    </tr>\n",
       "    <tr>\n",
       "      <th>1</th>\n",
       "      <td>11</td>\n",
       "      <td>1</td>\n",
       "      <td>5</td>\n",
       "      <td>B6</td>\n",
       "      <td>N992JB</td>\n",
       "      <td>LAX</td>\n",
       "      <td>-7</td>\n",
       "      <td>371</td>\n",
       "      <td>2475</td>\n",
       "      <td>340</td>\n",
       "      <td>...</td>\n",
       "      <td>34</td>\n",
       "      <td>58</td>\n",
       "      <td>W</td>\n",
       "      <td>25</td>\n",
       "      <td>38</td>\n",
       "      <td>29.86</td>\n",
       "      <td>Fair / Windy</td>\n",
       "      <td>9</td>\n",
       "      <td>17</td>\n",
       "      <td>15</td>\n",
       "    </tr>\n",
       "    <tr>\n",
       "      <th>2</th>\n",
       "      <td>11</td>\n",
       "      <td>1</td>\n",
       "      <td>5</td>\n",
       "      <td>B6</td>\n",
       "      <td>N959JB</td>\n",
       "      <td>FLL</td>\n",
       "      <td>40</td>\n",
       "      <td>181</td>\n",
       "      <td>1069</td>\n",
       "      <td>301</td>\n",
       "      <td>...</td>\n",
       "      <td>34</td>\n",
       "      <td>58</td>\n",
       "      <td>W</td>\n",
       "      <td>25</td>\n",
       "      <td>38</td>\n",
       "      <td>29.86</td>\n",
       "      <td>Fair / Windy</td>\n",
       "      <td>9</td>\n",
       "      <td>17</td>\n",
       "      <td>22</td>\n",
       "    </tr>\n",
       "    <tr>\n",
       "      <th>3</th>\n",
       "      <td>11</td>\n",
       "      <td>1</td>\n",
       "      <td>5</td>\n",
       "      <td>B6</td>\n",
       "      <td>N999JQ</td>\n",
       "      <td>MCO</td>\n",
       "      <td>-2</td>\n",
       "      <td>168</td>\n",
       "      <td>944</td>\n",
       "      <td>345</td>\n",
       "      <td>...</td>\n",
       "      <td>34</td>\n",
       "      <td>58</td>\n",
       "      <td>W</td>\n",
       "      <td>25</td>\n",
       "      <td>38</td>\n",
       "      <td>29.86</td>\n",
       "      <td>Fair / Windy</td>\n",
       "      <td>9</td>\n",
       "      <td>17</td>\n",
       "      <td>12</td>\n",
       "    </tr>\n",
       "    <tr>\n",
       "      <th>4</th>\n",
       "      <td>11</td>\n",
       "      <td>1</td>\n",
       "      <td>5</td>\n",
       "      <td>DL</td>\n",
       "      <td>N880DN</td>\n",
       "      <td>ATL</td>\n",
       "      <td>-4</td>\n",
       "      <td>139</td>\n",
       "      <td>760</td>\n",
       "      <td>360</td>\n",
       "      <td>...</td>\n",
       "      <td>32</td>\n",
       "      <td>58</td>\n",
       "      <td>W</td>\n",
       "      <td>24</td>\n",
       "      <td>35</td>\n",
       "      <td>29.91</td>\n",
       "      <td>Fair / Windy</td>\n",
       "      <td>9</td>\n",
       "      <td>17</td>\n",
       "      <td>13</td>\n",
       "    </tr>\n",
       "  </tbody>\n",
       "</table>\n",
       "<p>5 rows × 23 columns</p>\n",
       "</div>"
      ],
      "text/plain": [
       "   MONTH  DAY_OF_MONTH  DAY_OF_WEEK OP_UNIQUE_CARRIER TAIL_NUM DEST  \\\n",
       "0     11             1            5                B6   N828JB  CHS   \n",
       "1     11             1            5                B6   N992JB  LAX   \n",
       "2     11             1            5                B6   N959JB  FLL   \n",
       "3     11             1            5                B6   N999JQ  MCO   \n",
       "4     11             1            5                DL   N880DN  ATL   \n",
       "\n",
       "   DEP_DELAY  CRS_ELAPSED_TIME  DISTANCE  CRS_DEP_M  ...  Dew Point  Humidity  \\\n",
       "0         -1               124       636        324  ...         34        58   \n",
       "1         -7               371      2475        340  ...         34        58   \n",
       "2         40               181      1069        301  ...         34        58   \n",
       "3         -2               168       944        345  ...         34        58   \n",
       "4         -4               139       760        360  ...         32        58   \n",
       "\n",
       "   Wind Wind Speed  Wind Gust Pressure     Condition  sch_dep  sch_arr  \\\n",
       "0     W         25         38    29.86  Fair / Windy        9       17   \n",
       "1     W         25         38    29.86  Fair / Windy        9       17   \n",
       "2     W         25         38    29.86  Fair / Windy        9       17   \n",
       "3     W         25         38    29.86  Fair / Windy        9       17   \n",
       "4     W         24         35    29.91  Fair / Windy        9       17   \n",
       "\n",
       "  TAXI_OUT  \n",
       "0       14  \n",
       "1       15  \n",
       "2       22  \n",
       "3       12  \n",
       "4       13  \n",
       "\n",
       "[5 rows x 23 columns]"
      ]
     },
<<<<<<< Updated upstream
     "execution_count": 12,
=======
     "execution_count": 301,
>>>>>>> Stashed changes
     "metadata": {},
     "output_type": "execute_result"
    }
   ],
   "source": [
<<<<<<< Updated upstream
    "df = pd.read_csv('data/processed/M1_final.csv')\n",
=======
    "df = pd.read_csv('data/processed/archive/M1_final.csv')\n",
    "df_pre = df.copy()\n",
    "\n",
>>>>>>> Stashed changes
    "df.head()"
   ]
  },
  {
   "cell_type": "code",
<<<<<<< Updated upstream
   "execution_count": 13,
   "metadata": {
    "collapsed": false
   },
=======
   "execution_count": 302,
   "outputs": [
    {
     "data": {
      "text/plain": "(28820, 23)"
     },
     "execution_count": 302,
     "metadata": {},
     "output_type": "execute_result"
    }
   ],
   "source": [
    "df.shape"
   ],
   "metadata": {
    "collapsed": false
   }
  },
  {
   "cell_type": "code",
   "execution_count": 303,
>>>>>>> Stashed changes
   "outputs": [
    {
     "data": {
      "text/html": [
       "<div>\n",
       "<style scoped>\n",
       "    .dataframe tbody tr th:only-of-type {\n",
       "        vertical-align: middle;\n",
       "    }\n",
       "\n",
       "    .dataframe tbody tr th {\n",
       "        vertical-align: top;\n",
       "    }\n",
       "\n",
       "    .dataframe thead th {\n",
       "        text-align: right;\n",
       "    }\n",
       "</style>\n",
       "<table border=\"1\" class=\"dataframe\">\n",
       "  <thead>\n",
       "    <tr style=\"text-align: right;\">\n",
       "      <th></th>\n",
       "      <th>MONTH</th>\n",
       "      <th>DAY_OF_MONTH</th>\n",
       "      <th>DAY_OF_WEEK</th>\n",
       "      <th>DEP_DELAY</th>\n",
       "      <th>CRS_ELAPSED_TIME</th>\n",
       "      <th>DISTANCE</th>\n",
       "      <th>CRS_DEP_M</th>\n",
       "      <th>DEP_TIME_M</th>\n",
       "      <th>CRS_ARR_M</th>\n",
       "      <th>Temperature</th>\n",
       "      <th>Humidity</th>\n",
       "      <th>Wind Speed</th>\n",
       "      <th>Wind Gust</th>\n",
       "      <th>Pressure</th>\n",
       "      <th>sch_dep</th>\n",
       "      <th>sch_arr</th>\n",
       "      <th>TAXI_OUT</th>\n",
       "    </tr>\n",
       "  </thead>\n",
       "  <tbody>\n",
       "    <tr>\n",
       "      <th>count</th>\n",
       "      <td>28820.000000</td>\n",
       "      <td>28820.000000</td>\n",
       "      <td>28820.000000</td>\n",
       "      <td>28820.000000</td>\n",
       "      <td>28820.000000</td>\n",
       "      <td>28820.000000</td>\n",
       "      <td>28820.000000</td>\n",
       "      <td>28820.000000</td>\n",
       "      <td>28820.000000</td>\n",
       "      <td>28820.000000</td>\n",
       "      <td>28820.000000</td>\n",
       "      <td>28820.000000</td>\n",
       "      <td>28820.000000</td>\n",
       "      <td>28820.000000</td>\n",
       "      <td>28820.000000</td>\n",
       "      <td>28820.000000</td>\n",
       "      <td>28820.000000</td>\n",
       "    </tr>\n",
       "    <tr>\n",
       "      <th>mean</th>\n",
       "      <td>7.894240</td>\n",
       "      <td>16.021096</td>\n",
       "      <td>4.008952</td>\n",
       "      <td>6.374983</td>\n",
       "      <td>225.288203</td>\n",
       "      <td>1267.746079</td>\n",
       "      <td>831.003851</td>\n",
       "      <td>828.934698</td>\n",
       "      <td>910.874289</td>\n",
       "      <td>41.489833</td>\n",
       "      <td>57.732616</td>\n",
       "      <td>12.367627</td>\n",
       "      <td>5.535323</td>\n",
       "      <td>30.092433</td>\n",
       "      <td>31.091256</td>\n",
       "      <td>28.432130</td>\n",
       "      <td>20.858570</td>\n",
       "    </tr>\n",
       "    <tr>\n",
       "      <th>std</th>\n",
       "      <td>4.991723</td>\n",
       "      <td>8.750179</td>\n",
       "      <td>1.985230</td>\n",
       "      <td>38.735144</td>\n",
       "      <td>119.482417</td>\n",
       "      <td>889.343246</td>\n",
       "      <td>299.398525</td>\n",
       "      <td>305.864103</td>\n",
       "      <td>345.411743</td>\n",
       "      <td>8.043533</td>\n",
       "      <td>23.468676</td>\n",
       "      <td>6.259298</td>\n",
       "      <td>11.886457</td>\n",
       "      <td>0.296160</td>\n",
       "      <td>9.510359</td>\n",
       "      <td>8.263043</td>\n",
       "      <td>6.851915</td>\n",
       "    </tr>\n",
       "    <tr>\n",
       "      <th>min</th>\n",
       "      <td>1.000000</td>\n",
       "      <td>1.000000</td>\n",
       "      <td>1.000000</td>\n",
       "      <td>-22.000000</td>\n",
       "      <td>57.000000</td>\n",
       "      <td>94.000000</td>\n",
       "      <td>301.000000</td>\n",
       "      <td>1.000000</td>\n",
       "      <td>1.000000</td>\n",
       "      <td>17.000000</td>\n",
       "      <td>0.000000</td>\n",
       "      <td>0.000000</td>\n",
       "      <td>0.000000</td>\n",
       "      <td>29.200000</td>\n",
       "      <td>0.000000</td>\n",
       "      <td>0.000000</td>\n",
       "      <td>5.000000</td>\n",
       "    </tr>\n",
       "    <tr>\n",
       "      <th>25%</th>\n",
       "      <td>1.000000</td>\n",
       "      <td>8.000000</td>\n",
       "      <td>2.000000</td>\n",
       "      <td>-6.000000</td>\n",
       "      <td>124.000000</td>\n",
       "      <td>483.000000</td>\n",
       "      <td>545.000000</td>\n",
       "      <td>542.000000</td>\n",
       "      <td>667.000000</td>\n",
       "      <td>36.000000</td>\n",
       "      <td>46.000000</td>\n",
       "      <td>8.000000</td>\n",
       "      <td>0.000000</td>\n",
       "      <td>29.880000</td>\n",
       "      <td>26.000000</td>\n",
       "      <td>21.000000</td>\n",
       "      <td>16.000000</td>\n",
       "    </tr>\n",
       "    <tr>\n",
       "      <th>50%</th>\n",
       "      <td>11.000000</td>\n",
       "      <td>16.000000</td>\n",
       "      <td>4.000000</td>\n",
       "      <td>-3.000000</td>\n",
       "      <td>188.000000</td>\n",
       "      <td>1029.000000</td>\n",
       "      <td>856.000000</td>\n",
       "      <td>854.000000</td>\n",
       "      <td>918.000000</td>\n",
       "      <td>42.000000</td>\n",
       "      <td>59.000000</td>\n",
       "      <td>12.000000</td>\n",
       "      <td>0.000000</td>\n",
       "      <td>30.110000</td>\n",
       "      <td>30.000000</td>\n",
       "      <td>30.000000</td>\n",
       "      <td>19.000000</td>\n",
       "    </tr>\n",
       "    <tr>\n",
       "      <th>75%</th>\n",
       "      <td>12.000000</td>\n",
       "      <td>24.000000</td>\n",
       "      <td>6.000000</td>\n",
       "      <td>2.000000</td>\n",
       "      <td>365.000000</td>\n",
       "      <td>2248.000000</td>\n",
       "      <td>1095.000000</td>\n",
       "      <td>1097.000000</td>\n",
       "      <td>1193.000000</td>\n",
       "      <td>47.000000</td>\n",
       "      <td>74.000000</td>\n",
       "      <td>16.000000</td>\n",
       "      <td>0.000000</td>\n",
       "      <td>30.320000</td>\n",
       "      <td>37.000000</td>\n",
       "      <td>35.000000</td>\n",
       "      <td>25.000000</td>\n",
       "    </tr>\n",
       "    <tr>\n",
       "      <th>max</th>\n",
       "      <td>12.000000</td>\n",
       "      <td>31.000000</td>\n",
       "      <td>7.000000</td>\n",
       "      <td>1276.000000</td>\n",
       "      <td>697.000000</td>\n",
       "      <td>4983.000000</td>\n",
       "      <td>1439.000000</td>\n",
       "      <td>1440.000000</td>\n",
       "      <td>1439.000000</td>\n",
       "      <td>68.000000</td>\n",
       "      <td>97.000000</td>\n",
       "      <td>36.000000</td>\n",
       "      <td>49.000000</td>\n",
       "      <td>30.750000</td>\n",
       "      <td>55.000000</td>\n",
       "      <td>46.000000</td>\n",
       "      <td>41.000000</td>\n",
       "    </tr>\n",
       "  </tbody>\n",
       "</table>\n",
       "</div>"
      ],
      "text/plain": [
       "              MONTH  DAY_OF_MONTH   DAY_OF_WEEK     DEP_DELAY  \\\n",
       "count  28820.000000  28820.000000  28820.000000  28820.000000   \n",
       "mean       7.894240     16.021096      4.008952      6.374983   \n",
       "std        4.991723      8.750179      1.985230     38.735144   \n",
       "min        1.000000      1.000000      1.000000    -22.000000   \n",
       "25%        1.000000      8.000000      2.000000     -6.000000   \n",
       "50%       11.000000     16.000000      4.000000     -3.000000   \n",
       "75%       12.000000     24.000000      6.000000      2.000000   \n",
       "max       12.000000     31.000000      7.000000   1276.000000   \n",
       "\n",
       "       CRS_ELAPSED_TIME      DISTANCE     CRS_DEP_M    DEP_TIME_M  \\\n",
       "count      28820.000000  28820.000000  28820.000000  28820.000000   \n",
       "mean         225.288203   1267.746079    831.003851    828.934698   \n",
       "std          119.482417    889.343246    299.398525    305.864103   \n",
       "min           57.000000     94.000000    301.000000      1.000000   \n",
       "25%          124.000000    483.000000    545.000000    542.000000   \n",
       "50%          188.000000   1029.000000    856.000000    854.000000   \n",
       "75%          365.000000   2248.000000   1095.000000   1097.000000   \n",
       "max          697.000000   4983.000000   1439.000000   1440.000000   \n",
       "\n",
       "          CRS_ARR_M   Temperature      Humidity    Wind Speed     Wind Gust  \\\n",
       "count  28820.000000  28820.000000  28820.000000  28820.000000  28820.000000   \n",
       "mean     910.874289     41.489833     57.732616     12.367627      5.535323   \n",
       "std      345.411743      8.043533     23.468676      6.259298     11.886457   \n",
       "min        1.000000     17.000000      0.000000      0.000000      0.000000   \n",
       "25%      667.000000     36.000000     46.000000      8.000000      0.000000   \n",
       "50%      918.000000     42.000000     59.000000     12.000000      0.000000   \n",
       "75%     1193.000000     47.000000     74.000000     16.000000      0.000000   \n",
       "max     1439.000000     68.000000     97.000000     36.000000     49.000000   \n",
       "\n",
       "           Pressure       sch_dep       sch_arr      TAXI_OUT  \n",
       "count  28820.000000  28820.000000  28820.000000  28820.000000  \n",
       "mean      30.092433     31.091256     28.432130     20.858570  \n",
       "std        0.296160      9.510359      8.263043      6.851915  \n",
       "min       29.200000      0.000000      0.000000      5.000000  \n",
       "25%       29.880000     26.000000     21.000000     16.000000  \n",
       "50%       30.110000     30.000000     30.000000     19.000000  \n",
       "75%       30.320000     37.000000     35.000000     25.000000  \n",
       "max       30.750000     55.000000     46.000000     41.000000  "
      ]
     },
<<<<<<< Updated upstream
     "execution_count": 13,
=======
     "execution_count": 303,
>>>>>>> Stashed changes
     "metadata": {},
     "output_type": "execute_result"
    }
   ],
   "source": [
    "df.describe()"
   ]
  },
  {
   "cell_type": "code",
<<<<<<< Updated upstream
   "execution_count": 14,
   "metadata": {
    "collapsed": false
   },
=======
   "execution_count": 304,
>>>>>>> Stashed changes
   "outputs": [
    {
     "data": {
      "text/plain": [
       "<Axes: ylabel='count'>"
      ]
     },
<<<<<<< Updated upstream
     "execution_count": 14,
=======
     "execution_count": 304,
>>>>>>> Stashed changes
     "metadata": {},
     "output_type": "execute_result"
    },
    {
     "data": {
      "image/png": "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",
      "text/plain": [
       "<Figure size 600x600 with 1 Axes>"
      ]
     },
     "metadata": {},
     "output_type": "display_data"
    }
   ],
   "source": [
    "# draw pie chart for unique op carriers\n",
    "df['OP_UNIQUE_CARRIER'].value_counts().plot(kind='pie', figsize=(6,6), autopct='%1.1f%%')"
   ]
  },
  {
   "cell_type": "markdown",
   "metadata": {
    "collapsed": false
   },
   "source": [
    "## The most frequent carriers are 9E, B6 and DL"
   ]
  },
  {
   "cell_type": "code",
<<<<<<< Updated upstream
   "execution_count": 15,
   "metadata": {
    "collapsed": false
   },
=======
   "execution_count": 305,
   "outputs": [],
   "source": [
    "# To handle unbalanced data we can use SMOTE\n"
   ],
   "metadata": {
    "collapsed": false
   }
  },
  {
   "cell_type": "code",
   "execution_count": 305,
   "outputs": [],
   "source": [],
   "metadata": {
    "collapsed": false
   }
  },
  {
   "cell_type": "code",
   "execution_count": 306,
>>>>>>> Stashed changes
   "outputs": [
    {
     "data": {
      "text/plain": [
       "OP_UNIQUE_CARRIER\n",
       "B6    9589\n",
       "DL    7680\n",
       "9E    4485\n",
       "AA    3595\n",
       "AS    1111\n",
       "MQ    1045\n",
       "YX     914\n",
       "OO     311\n",
       "HA      90\n",
       "Name: count, dtype: int64"
      ]
     },
<<<<<<< Updated upstream
     "execution_count": 15,
=======
     "execution_count": 306,
>>>>>>> Stashed changes
     "metadata": {},
     "output_type": "execute_result"
    }
   ],
   "source": [
    "df['OP_UNIQUE_CARRIER'].value_counts()"
   ]
  },
  {
   "cell_type": "code",
<<<<<<< Updated upstream
   "execution_count": 16,
   "metadata": {
    "collapsed": false
   },
=======
   "execution_count": 307,
>>>>>>> Stashed changes
   "outputs": [
    {
     "data": {
      "text/plain": [
       "Index(['MONTH', 'DAY_OF_MONTH', 'DAY_OF_WEEK', 'OP_UNIQUE_CARRIER', 'TAIL_NUM',\n",
       "       'DEST', 'DEP_DELAY', 'CRS_ELAPSED_TIME', 'DISTANCE', 'CRS_DEP_M',\n",
       "       'DEP_TIME_M', 'CRS_ARR_M', 'Temperature', 'Dew Point', 'Humidity',\n",
       "       'Wind', 'Wind Speed', 'Wind Gust', 'Pressure', 'Condition', 'sch_dep',\n",
       "       'sch_arr', 'TAXI_OUT'],\n",
       "      dtype='object')"
      ]
     },
<<<<<<< Updated upstream
     "execution_count": 16,
=======
     "execution_count": 307,
>>>>>>> Stashed changes
     "metadata": {},
     "output_type": "execute_result"
    }
   ],
   "source": [
    "# all columns of df\n",
    "df.columns"
   ]
  },
  {
   "cell_type": "code",
<<<<<<< Updated upstream
   "execution_count": 17,
   "metadata": {
    "collapsed": false
   },
=======
   "execution_count": 308,
>>>>>>> Stashed changes
   "outputs": [
    {
     "data": {
      "text/html": [
       "<div>\n",
       "<style scoped>\n",
       "    .dataframe tbody tr th:only-of-type {\n",
       "        vertical-align: middle;\n",
       "    }\n",
       "\n",
       "    .dataframe tbody tr th {\n",
       "        vertical-align: top;\n",
       "    }\n",
       "\n",
       "    .dataframe thead th {\n",
       "        text-align: right;\n",
       "    }\n",
       "</style>\n",
       "<table border=\"1\" class=\"dataframe\">\n",
       "  <thead>\n",
       "    <tr style=\"text-align: right;\">\n",
       "      <th></th>\n",
       "      <th>max</th>\n",
       "      <th>min</th>\n",
       "      <th>mean</th>\n",
       "    </tr>\n",
       "    <tr>\n",
       "      <th>OP_UNIQUE_CARRIER</th>\n",
       "      <th></th>\n",
       "      <th></th>\n",
       "      <th></th>\n",
       "    </tr>\n",
       "  </thead>\n",
       "  <tbody>\n",
       "    <tr>\n",
       "      <th>9E</th>\n",
       "      <td>729</td>\n",
       "      <td>-20</td>\n",
       "      <td>5.374805</td>\n",
       "    </tr>\n",
       "    <tr>\n",
       "      <th>AA</th>\n",
       "      <td>1048</td>\n",
       "      <td>-16</td>\n",
       "      <td>5.450348</td>\n",
       "    </tr>\n",
       "    <tr>\n",
       "      <th>AS</th>\n",
       "      <td>621</td>\n",
       "      <td>-19</td>\n",
       "      <td>5.103510</td>\n",
       "    </tr>\n",
       "    <tr>\n",
       "      <th>B6</th>\n",
       "      <td>830</td>\n",
       "      <td>-22</td>\n",
       "      <td>8.108979</td>\n",
       "    </tr>\n",
       "    <tr>\n",
       "      <th>DL</th>\n",
       "      <td>1199</td>\n",
       "      <td>-16</td>\n",
       "      <td>5.463151</td>\n",
       "    </tr>\n",
       "    <tr>\n",
       "      <th>HA</th>\n",
       "      <td>117</td>\n",
       "      <td>-14</td>\n",
       "      <td>0.755556</td>\n",
       "    </tr>\n",
       "    <tr>\n",
       "      <th>MQ</th>\n",
       "      <td>599</td>\n",
       "      <td>-14</td>\n",
       "      <td>5.553110</td>\n",
       "    </tr>\n",
       "    <tr>\n",
       "      <th>OO</th>\n",
       "      <td>1276</td>\n",
       "      <td>-14</td>\n",
       "      <td>16.639871</td>\n",
       "    </tr>\n",
       "    <tr>\n",
       "      <th>YX</th>\n",
       "      <td>1148</td>\n",
       "      <td>-15</td>\n",
       "      <td>3.935449</td>\n",
       "    </tr>\n",
       "  </tbody>\n",
       "</table>\n",
       "</div>"
      ],
      "text/plain": [
       "                    max  min       mean\n",
       "OP_UNIQUE_CARRIER                      \n",
       "9E                  729  -20   5.374805\n",
       "AA                 1048  -16   5.450348\n",
       "AS                  621  -19   5.103510\n",
       "B6                  830  -22   8.108979\n",
       "DL                 1199  -16   5.463151\n",
       "HA                  117  -14   0.755556\n",
       "MQ                  599  -14   5.553110\n",
       "OO                 1276  -14  16.639871\n",
       "YX                 1148  -15   3.935449"
      ]
     },
<<<<<<< Updated upstream
     "execution_count": 17,
=======
     "execution_count": 308,
>>>>>>> Stashed changes
     "metadata": {},
     "output_type": "execute_result"
    },
    {
     "data": {
      "image/png": "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",
      "text/plain": [
       "<Figure size 600x600 with 1 Axes>"
      ]
     },
     "metadata": {},
     "output_type": "display_data"
    }
   ],
   "source": [
    "# maximum minimum and mean delay time for each carrier\n",
    "df.groupby('OP_UNIQUE_CARRIER')['DEP_DELAY'].agg(['max', 'min', 'mean']).plot(kind='bar', figsize=(6,6))\n",
    "df.groupby('OP_UNIQUE_CARRIER')['DEP_DELAY'].agg(['max', 'min', 'mean'])\n",
    "\n"
   ]
  },
  {
   "cell_type": "code",
<<<<<<< Updated upstream
   "execution_count": 18,
   "metadata": {
    "collapsed": false
   },
=======
   "execution_count": 309,
>>>>>>> Stashed changes
   "outputs": [
    {
     "name": "stdout",
     "output_type": "stream",
     "text": [
      "{'9E': 0, 'AA': 1, 'AS': 2, 'B6': 3, 'DL': 4, 'HA': 5, 'MQ': 6, 'OO': 7, 'YX': 8}\n"
     ]
    }
   ],
   "source": [
    "# Label encoding for OP_UNIQUE_CARRIER\n",
    "from sklearn.preprocessing import LabelEncoder\n",
    "le = LabelEncoder()\n",
    "df['OP_UNIQUE_CARRIER'] = le.fit_transform(df['OP_UNIQUE_CARRIER'])\n",
    "le_name_mapping = dict(zip(le.classes_, le.transform(le.classes_)))\n",
    "print(le_name_mapping)"
   ]
  },
  {
   "cell_type": "code",
<<<<<<< Updated upstream
   "execution_count": 19,
   "metadata": {
    "collapsed": false
   },
=======
   "execution_count": 310,
>>>>>>> Stashed changes
   "outputs": [
    {
     "data": {
      "text/html": [
       "<div>\n",
       "<style scoped>\n",
       "    .dataframe tbody tr th:only-of-type {\n",
       "        vertical-align: middle;\n",
       "    }\n",
       "\n",
       "    .dataframe tbody tr th {\n",
       "        vertical-align: top;\n",
       "    }\n",
       "\n",
       "    .dataframe thead th {\n",
       "        text-align: right;\n",
       "    }\n",
       "</style>\n",
       "<table border=\"1\" class=\"dataframe\">\n",
       "  <thead>\n",
       "    <tr style=\"text-align: right;\">\n",
       "      <th></th>\n",
       "      <th>DEP_DELAY</th>\n",
       "      <th>Wind Gust</th>\n",
       "      <th>Wind Speed</th>\n",
       "      <th>Temperature</th>\n",
       "      <th>Pressure</th>\n",
       "      <th>Dew Point</th>\n",
       "      <th>Humidity</th>\n",
       "    </tr>\n",
       "  </thead>\n",
       "  <tbody>\n",
       "    <tr>\n",
       "      <th>DEP_DELAY</th>\n",
       "      <td>1.000000</td>\n",
       "      <td>0.044340</td>\n",
       "      <td>0.067718</td>\n",
       "      <td>-0.032261</td>\n",
       "      <td>-0.064939</td>\n",
       "      <td>-0.000013</td>\n",
       "      <td>-0.011776</td>\n",
       "    </tr>\n",
       "    <tr>\n",
       "      <th>Wind Gust</th>\n",
       "      <td>0.044340</td>\n",
       "      <td>1.000000</td>\n",
       "      <td>0.698795</td>\n",
       "      <td>-0.039487</td>\n",
       "      <td>-0.186249</td>\n",
       "      <td>-0.163160</td>\n",
       "      <td>-0.106828</td>\n",
       "    </tr>\n",
       "    <tr>\n",
       "      <th>Wind Speed</th>\n",
       "      <td>0.067718</td>\n",
       "      <td>0.698795</td>\n",
       "      <td>1.000000</td>\n",
       "      <td>0.010603</td>\n",
       "      <td>-0.309978</td>\n",
       "      <td>-0.142122</td>\n",
       "      <td>-0.110274</td>\n",
       "    </tr>\n",
       "    <tr>\n",
       "      <th>Temperature</th>\n",
       "      <td>-0.032261</td>\n",
       "      <td>-0.039487</td>\n",
       "      <td>0.010603</td>\n",
       "      <td>1.000000</td>\n",
       "      <td>-0.376730</td>\n",
       "      <td>0.787864</td>\n",
       "      <td>0.054401</td>\n",
       "    </tr>\n",
       "    <tr>\n",
       "      <th>Pressure</th>\n",
       "      <td>-0.064939</td>\n",
       "      <td>-0.186249</td>\n",
       "      <td>-0.309978</td>\n",
       "      <td>-0.376730</td>\n",
       "      <td>1.000000</td>\n",
       "      <td>-0.489134</td>\n",
       "      <td>0.033677</td>\n",
       "    </tr>\n",
       "    <tr>\n",
       "      <th>Dew Point</th>\n",
       "      <td>-0.000013</td>\n",
       "      <td>-0.163160</td>\n",
       "      <td>-0.142122</td>\n",
       "      <td>0.787864</td>\n",
       "      <td>-0.489134</td>\n",
       "      <td>1.000000</td>\n",
       "      <td>0.195262</td>\n",
       "    </tr>\n",
       "    <tr>\n",
       "      <th>Humidity</th>\n",
       "      <td>-0.011776</td>\n",
       "      <td>-0.106828</td>\n",
       "      <td>-0.110274</td>\n",
       "      <td>0.054401</td>\n",
       "      <td>0.033677</td>\n",
       "      <td>0.195262</td>\n",
       "      <td>1.000000</td>\n",
       "    </tr>\n",
       "  </tbody>\n",
       "</table>\n",
       "</div>"
      ],
      "text/plain": [
       "             DEP_DELAY  Wind Gust  Wind Speed  Temperature  Pressure  \\\n",
       "DEP_DELAY     1.000000   0.044340    0.067718    -0.032261 -0.064939   \n",
       "Wind Gust     0.044340   1.000000    0.698795    -0.039487 -0.186249   \n",
       "Wind Speed    0.067718   0.698795    1.000000     0.010603 -0.309978   \n",
       "Temperature  -0.032261  -0.039487    0.010603     1.000000 -0.376730   \n",
       "Pressure     -0.064939  -0.186249   -0.309978    -0.376730  1.000000   \n",
       "Dew Point    -0.000013  -0.163160   -0.142122     0.787864 -0.489134   \n",
       "Humidity     -0.011776  -0.106828   -0.110274     0.054401  0.033677   \n",
       "\n",
       "             Dew Point  Humidity  \n",
       "DEP_DELAY    -0.000013 -0.011776  \n",
       "Wind Gust    -0.163160 -0.106828  \n",
       "Wind Speed   -0.142122 -0.110274  \n",
       "Temperature   0.787864  0.054401  \n",
       "Pressure     -0.489134  0.033677  \n",
       "Dew Point     1.000000  0.195262  \n",
       "Humidity      0.195262  1.000000  "
      ]
     },
<<<<<<< Updated upstream
     "execution_count": 19,
=======
     "execution_count": 310,
>>>>>>> Stashed changes
     "metadata": {},
     "output_type": "execute_result"
    }
   ],
   "source": [
    "#corr with wind gust and wind speed and dep delay\n",
    "df[['DEP_DELAY', 'Wind Gust', 'Wind Speed','Temperature','Pressure','Dew Point','Humidity']].corr()\n"
   ]
  },
  {
   "cell_type": "code",
<<<<<<< Updated upstream
   "execution_count": 20,
   "metadata": {
    "collapsed": false
   },
=======
   "execution_count": 311,
>>>>>>> Stashed changes
   "outputs": [
    {
     "name": "stdout",
     "output_type": "stream",
     "text": [
      "{'Cloudy': 0, 'Cloudy / Windy': 1, 'Drizzle and Fog': 2, 'Fair': 3, 'Fair / Windy': 4, 'Fog': 5, 'Fog / Windy': 6, 'Heavy Rain': 7, 'Heavy Rain / Windy': 8, 'Light Drizzle': 9, 'Light Drizzle / Windy': 10, 'Light Freezing Rain': 11, 'Light Rain': 12, 'Light Rain / Windy': 13, 'Light Snow': 14, 'Light Snow / Windy': 15, 'Mostly Cloudy': 16, 'Mostly Cloudy / Windy': 17, 'Partly Cloudy': 18, 'Partly Cloudy / Windy': 19, 'Rain': 20, 'Rain / Windy': 21, 'Snow': 22, 'Wintry Mix': 23, 'Wintry Mix / Windy': 24}\n"
     ]
    }
   ],
   "source": [
    "# Label encoding for conditions and save mapping\n",
    "le_cond = LabelEncoder()\n",
    "df['Condition'] = le_cond.fit_transform(df['Condition'])\n",
    "le_name_mapping_cond = dict(zip(le_cond.classes_, le_cond.transform(le_cond.classes_)))\n",
    "print(le_name_mapping_cond)"
   ]
  },
  {
   "cell_type": "code",
<<<<<<< Updated upstream
   "execution_count": 21,
   "metadata": {
    "collapsed": false
   },
=======
   "execution_count": 312,
>>>>>>> Stashed changes
   "outputs": [
    {
     "data": {
      "text/plain": [
       "Condition_unencoded\n",
       "Mostly Cloudy            9124\n",
       "Fair                     5038\n",
       "Cloudy                   4992\n",
       "Partly Cloudy            3209\n",
       "Light Rain               1865\n",
       "Mostly Cloudy / Windy    1442\n",
       "Fair / Windy              918\n",
       "Partly Cloudy / Windy     582\n",
       "Rain                      351\n",
       "Cloudy / Windy            341\n",
       "Light Rain / Windy        288\n",
       "Light Drizzle             194\n",
       "Fog                       147\n",
       "Wintry Mix                 83\n",
       "Light Snow                 76\n",
       "Heavy Rain                 54\n",
       "Fog / Windy                28\n",
       "Rain / Windy               25\n",
       "Light Snow / Windy         24\n",
       "Light Drizzle / Windy      18\n",
       "Heavy Rain / Windy          6\n",
       "Drizzle and Fog             5\n",
       "Light Freezing Rain         4\n",
       "Wintry Mix / Windy          4\n",
       "Snow                        2\n",
       "Name: count, dtype: int64"
      ]
     },
<<<<<<< Updated upstream
     "execution_count": 21,
=======
     "execution_count": 312,
>>>>>>> Stashed changes
     "metadata": {},
     "output_type": "execute_result"
    }
   ],
   "source": [
    "#how many conditions have windy in it\n",
    "df['Condition'].value_counts()\n",
    "# remove label encoding\n",
    "df['Condition_unencoded'] = le_cond.inverse_transform(df['Condition'])\n",
    "df['Condition_unencoded'].value_counts()"
   ]
  },
  {
   "cell_type": "code",
<<<<<<< Updated upstream
   "execution_count": 2,
   "metadata": {
    "collapsed": false
   },
   "outputs": [
    {
     "ename": "SyntaxError",
     "evalue": "invalid syntax (2495592231.py, line 2)",
     "output_type": "error",
     "traceback": [
      "\u001B[0;36m  Cell \u001B[0;32mIn[2], line 2\u001B[0;36m\u001B[0m\n\u001B[0;31m    df.groupby('Condition_unencoded')['DEP_DELAY'].agg(['max', 'min', 'mean']).plot(kind='bar', figsize=(12,12)).\u001B[0m\n\u001B[0m                                                                                                                 ^\u001B[0m\n\u001B[0;31mSyntaxError\u001B[0m\u001B[0;31m:\u001B[0m invalid syntax\n"
     ]
=======
   "execution_count": 313,
   "outputs": [
    {
     "data": {
      "text/plain": "                        max  min       mean\nCondition_unencoded                        \nCloudy                 1048  -22   5.316106\nCloudy / Windy          372  -15  18.695015\nDrizzle and Fog           7   -7  -3.000000\nFair                    830  -18   6.032553\nFair / Windy           1276  -15   9.896514\nFog                     132  -13   2.639456\nFog / Windy             390  -11  25.892857\nHeavy Rain              325   -9  35.611111\nHeavy Rain / Windy       50  -19   1.166667\nLight Drizzle           228  -16   3.958763\nLight Drizzle / Windy    47  -10  -0.722222\nLight Freezing Rain     281   -7  70.000000\nLight Rain              624  -18   9.595710\nLight Rain / Windy      195  -18   6.236111\nLight Snow              421  -14  15.144737\nLight Snow / Windy      337  -10  63.625000\nMostly Cloudy          1148  -20   4.820802\nMostly Cloudy / Windy   322  -18   5.855756\nPartly Cloudy           360  -18   5.227174\nPartly Cloudy / Windy  1199  -11  15.950172\nRain                    283  -13  14.495726\nRain / Windy            131  -12   3.800000\nSnow                     -4   -4  -4.000000\nWintry Mix              149  -10  12.337349\nWintry Mix / Windy      165   -2  54.750000",
      "text/html": "<div>\n<style scoped>\n    .dataframe tbody tr th:only-of-type {\n        vertical-align: middle;\n    }\n\n    .dataframe tbody tr th {\n        vertical-align: top;\n    }\n\n    .dataframe thead th {\n        text-align: right;\n    }\n</style>\n<table border=\"1\" class=\"dataframe\">\n  <thead>\n    <tr style=\"text-align: right;\">\n      <th></th>\n      <th>max</th>\n      <th>min</th>\n      <th>mean</th>\n    </tr>\n    <tr>\n      <th>Condition_unencoded</th>\n      <th></th>\n      <th></th>\n      <th></th>\n    </tr>\n  </thead>\n  <tbody>\n    <tr>\n      <th>Cloudy</th>\n      <td>1048</td>\n      <td>-22</td>\n      <td>5.316106</td>\n    </tr>\n    <tr>\n      <th>Cloudy / Windy</th>\n      <td>372</td>\n      <td>-15</td>\n      <td>18.695015</td>\n    </tr>\n    <tr>\n      <th>Drizzle and Fog</th>\n      <td>7</td>\n      <td>-7</td>\n      <td>-3.000000</td>\n    </tr>\n    <tr>\n      <th>Fair</th>\n      <td>830</td>\n      <td>-18</td>\n      <td>6.032553</td>\n    </tr>\n    <tr>\n      <th>Fair / Windy</th>\n      <td>1276</td>\n      <td>-15</td>\n      <td>9.896514</td>\n    </tr>\n    <tr>\n      <th>Fog</th>\n      <td>132</td>\n      <td>-13</td>\n      <td>2.639456</td>\n    </tr>\n    <tr>\n      <th>Fog / Windy</th>\n      <td>390</td>\n      <td>-11</td>\n      <td>25.892857</td>\n    </tr>\n    <tr>\n      <th>Heavy Rain</th>\n      <td>325</td>\n      <td>-9</td>\n      <td>35.611111</td>\n    </tr>\n    <tr>\n      <th>Heavy Rain / Windy</th>\n      <td>50</td>\n      <td>-19</td>\n      <td>1.166667</td>\n    </tr>\n    <tr>\n      <th>Light Drizzle</th>\n      <td>228</td>\n      <td>-16</td>\n      <td>3.958763</td>\n    </tr>\n    <tr>\n      <th>Light Drizzle / Windy</th>\n      <td>47</td>\n      <td>-10</td>\n      <td>-0.722222</td>\n    </tr>\n    <tr>\n      <th>Light Freezing Rain</th>\n      <td>281</td>\n      <td>-7</td>\n      <td>70.000000</td>\n    </tr>\n    <tr>\n      <th>Light Rain</th>\n      <td>624</td>\n      <td>-18</td>\n      <td>9.595710</td>\n    </tr>\n    <tr>\n      <th>Light Rain / Windy</th>\n      <td>195</td>\n      <td>-18</td>\n      <td>6.236111</td>\n    </tr>\n    <tr>\n      <th>Light Snow</th>\n      <td>421</td>\n      <td>-14</td>\n      <td>15.144737</td>\n    </tr>\n    <tr>\n      <th>Light Snow / Windy</th>\n      <td>337</td>\n      <td>-10</td>\n      <td>63.625000</td>\n    </tr>\n    <tr>\n      <th>Mostly Cloudy</th>\n      <td>1148</td>\n      <td>-20</td>\n      <td>4.820802</td>\n    </tr>\n    <tr>\n      <th>Mostly Cloudy / Windy</th>\n      <td>322</td>\n      <td>-18</td>\n      <td>5.855756</td>\n    </tr>\n    <tr>\n      <th>Partly Cloudy</th>\n      <td>360</td>\n      <td>-18</td>\n      <td>5.227174</td>\n    </tr>\n    <tr>\n      <th>Partly Cloudy / Windy</th>\n      <td>1199</td>\n      <td>-11</td>\n      <td>15.950172</td>\n    </tr>\n    <tr>\n      <th>Rain</th>\n      <td>283</td>\n      <td>-13</td>\n      <td>14.495726</td>\n    </tr>\n    <tr>\n      <th>Rain / Windy</th>\n      <td>131</td>\n      <td>-12</td>\n      <td>3.800000</td>\n    </tr>\n    <tr>\n      <th>Snow</th>\n      <td>-4</td>\n      <td>-4</td>\n      <td>-4.000000</td>\n    </tr>\n    <tr>\n      <th>Wintry Mix</th>\n      <td>149</td>\n      <td>-10</td>\n      <td>12.337349</td>\n    </tr>\n    <tr>\n      <th>Wintry Mix / Windy</th>\n      <td>165</td>\n      <td>-2</td>\n      <td>54.750000</td>\n    </tr>\n  </tbody>\n</table>\n</div>"
     },
     "execution_count": 313,
     "metadata": {},
     "output_type": "execute_result"
    },
    {
     "data": {
      "text/plain": "<Figure size 1200x1200 with 1 Axes>",
      "image/png": "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"
     },
     "metadata": {},
     "output_type": "display_data"
>>>>>>> Stashed changes
    }
   ],
   "source": [
    "# plot dep delay vs condition min max and mean and create a table too\n",
    "df.groupby('Condition_unencoded')['DEP_DELAY'].agg(['max', 'min', 'mean']).plot(kind='bar', figsize=(12,12))\n",
<<<<<<< Updated upstream
    "df.groupby('Condition_unencoded')['DEP_DELAY'].agg(['max', 'min', 'mean']).sort_values(by='mean', ascending=False)"
   ]
  },
  {
   "cell_type": "code",
   "execution_count": 24,
   "metadata": {
    "collapsed": false
   },
   "outputs": [
    {
     "data": {
      "text/html": [
       "<div>\n",
       "<style scoped>\n",
       "    .dataframe tbody tr th:only-of-type {\n",
       "        vertical-align: middle;\n",
       "    }\n",
       "\n",
       "    .dataframe tbody tr th {\n",
       "        vertical-align: top;\n",
       "    }\n",
       "\n",
       "    .dataframe thead th {\n",
       "        text-align: right;\n",
       "    }\n",
       "</style>\n",
       "<table border=\"1\" class=\"dataframe\">\n",
       "  <thead>\n",
       "    <tr style=\"text-align: right;\">\n",
       "      <th></th>\n",
       "      <th>max</th>\n",
       "      <th>min</th>\n",
       "      <th>mean</th>\n",
       "    </tr>\n",
       "    <tr>\n",
       "      <th>Condition_unencoded</th>\n",
       "      <th></th>\n",
       "      <th></th>\n",
       "      <th></th>\n",
       "    </tr>\n",
       "  </thead>\n",
       "  <tbody>\n",
       "    <tr>\n",
       "      <th>Light Freezing Rain</th>\n",
       "      <td>281</td>\n",
       "      <td>-7</td>\n",
       "      <td>70.000000</td>\n",
       "    </tr>\n",
       "    <tr>\n",
       "      <th>Light Snow / Windy</th>\n",
       "      <td>337</td>\n",
       "      <td>-10</td>\n",
       "      <td>63.625000</td>\n",
       "    </tr>\n",
       "    <tr>\n",
       "      <th>Wintry Mix / Windy</th>\n",
       "      <td>165</td>\n",
       "      <td>-2</td>\n",
       "      <td>54.750000</td>\n",
       "    </tr>\n",
       "    <tr>\n",
       "      <th>Heavy Rain</th>\n",
       "      <td>325</td>\n",
       "      <td>-9</td>\n",
       "      <td>35.611111</td>\n",
       "    </tr>\n",
       "    <tr>\n",
       "      <th>Fog / Windy</th>\n",
       "      <td>390</td>\n",
       "      <td>-11</td>\n",
       "      <td>25.892857</td>\n",
       "    </tr>\n",
       "    <tr>\n",
       "      <th>Cloudy / Windy</th>\n",
       "      <td>372</td>\n",
       "      <td>-15</td>\n",
       "      <td>18.695015</td>\n",
       "    </tr>\n",
       "    <tr>\n",
       "      <th>Partly Cloudy / Windy</th>\n",
       "      <td>1199</td>\n",
       "      <td>-11</td>\n",
       "      <td>15.950172</td>\n",
       "    </tr>\n",
       "    <tr>\n",
       "      <th>Light Snow</th>\n",
       "      <td>421</td>\n",
       "      <td>-14</td>\n",
       "      <td>15.144737</td>\n",
       "    </tr>\n",
       "    <tr>\n",
       "      <th>Rain</th>\n",
       "      <td>283</td>\n",
       "      <td>-13</td>\n",
       "      <td>14.495726</td>\n",
       "    </tr>\n",
       "    <tr>\n",
       "      <th>Wintry Mix</th>\n",
       "      <td>149</td>\n",
       "      <td>-10</td>\n",
       "      <td>12.337349</td>\n",
       "    </tr>\n",
       "    <tr>\n",
       "      <th>Fair / Windy</th>\n",
       "      <td>1276</td>\n",
       "      <td>-15</td>\n",
       "      <td>9.896514</td>\n",
       "    </tr>\n",
       "    <tr>\n",
       "      <th>Light Rain</th>\n",
       "      <td>624</td>\n",
       "      <td>-18</td>\n",
       "      <td>9.595710</td>\n",
       "    </tr>\n",
       "    <tr>\n",
       "      <th>Light Rain / Windy</th>\n",
       "      <td>195</td>\n",
       "      <td>-18</td>\n",
       "      <td>6.236111</td>\n",
       "    </tr>\n",
       "    <tr>\n",
       "      <th>Fair</th>\n",
       "      <td>830</td>\n",
       "      <td>-18</td>\n",
       "      <td>6.032553</td>\n",
       "    </tr>\n",
       "    <tr>\n",
       "      <th>Mostly Cloudy / Windy</th>\n",
       "      <td>322</td>\n",
       "      <td>-18</td>\n",
       "      <td>5.855756</td>\n",
       "    </tr>\n",
       "    <tr>\n",
       "      <th>Cloudy</th>\n",
       "      <td>1048</td>\n",
       "      <td>-22</td>\n",
       "      <td>5.316106</td>\n",
       "    </tr>\n",
       "    <tr>\n",
       "      <th>Partly Cloudy</th>\n",
       "      <td>360</td>\n",
       "      <td>-18</td>\n",
       "      <td>5.227174</td>\n",
       "    </tr>\n",
       "    <tr>\n",
       "      <th>Mostly Cloudy</th>\n",
       "      <td>1148</td>\n",
       "      <td>-20</td>\n",
       "      <td>4.820802</td>\n",
       "    </tr>\n",
       "    <tr>\n",
       "      <th>Light Drizzle</th>\n",
       "      <td>228</td>\n",
       "      <td>-16</td>\n",
       "      <td>3.958763</td>\n",
       "    </tr>\n",
       "    <tr>\n",
       "      <th>Rain / Windy</th>\n",
       "      <td>131</td>\n",
       "      <td>-12</td>\n",
       "      <td>3.800000</td>\n",
       "    </tr>\n",
       "    <tr>\n",
       "      <th>Fog</th>\n",
       "      <td>132</td>\n",
       "      <td>-13</td>\n",
       "      <td>2.639456</td>\n",
       "    </tr>\n",
       "    <tr>\n",
       "      <th>Heavy Rain / Windy</th>\n",
       "      <td>50</td>\n",
       "      <td>-19</td>\n",
       "      <td>1.166667</td>\n",
       "    </tr>\n",
       "    <tr>\n",
       "      <th>Light Drizzle / Windy</th>\n",
       "      <td>47</td>\n",
       "      <td>-10</td>\n",
       "      <td>-0.722222</td>\n",
       "    </tr>\n",
       "    <tr>\n",
       "      <th>Drizzle and Fog</th>\n",
       "      <td>7</td>\n",
       "      <td>-7</td>\n",
       "      <td>-3.000000</td>\n",
       "    </tr>\n",
       "    <tr>\n",
       "      <th>Snow</th>\n",
       "      <td>-4</td>\n",
       "      <td>-4</td>\n",
       "      <td>-4.000000</td>\n",
       "    </tr>\n",
       "  </tbody>\n",
       "</table>\n",
       "</div>"
      ],
      "text/plain": [
       "                        max  min       mean\n",
       "Condition_unencoded                        \n",
       "Light Freezing Rain     281   -7  70.000000\n",
       "Light Snow / Windy      337  -10  63.625000\n",
       "Wintry Mix / Windy      165   -2  54.750000\n",
       "Heavy Rain              325   -9  35.611111\n",
       "Fog / Windy             390  -11  25.892857\n",
       "Cloudy / Windy          372  -15  18.695015\n",
       "Partly Cloudy / Windy  1199  -11  15.950172\n",
       "Light Snow              421  -14  15.144737\n",
       "Rain                    283  -13  14.495726\n",
       "Wintry Mix              149  -10  12.337349\n",
       "Fair / Windy           1276  -15   9.896514\n",
       "Light Rain              624  -18   9.595710\n",
       "Light Rain / Windy      195  -18   6.236111\n",
       "Fair                    830  -18   6.032553\n",
       "Mostly Cloudy / Windy   322  -18   5.855756\n",
       "Cloudy                 1048  -22   5.316106\n",
       "Partly Cloudy           360  -18   5.227174\n",
       "Mostly Cloudy          1148  -20   4.820802\n",
       "Light Drizzle           228  -16   3.958763\n",
       "Rain / Windy            131  -12   3.800000\n",
       "Fog                     132  -13   2.639456\n",
       "Heavy Rain / Windy       50  -19   1.166667\n",
       "Light Drizzle / Windy    47  -10  -0.722222\n",
       "Drizzle and Fog           7   -7  -3.000000\n",
       "Snow                     -4   -4  -4.000000"
      ]
     },
     "execution_count": 24,
=======
    "df.groupby('Condition_unencoded')['DEP_DELAY'].agg(['max', 'min', 'mean'])"
   ],
   "metadata": {
    "collapsed": false
   }
  },
  {
   "cell_type": "code",
   "execution_count": 314,
   "outputs": [
    {
     "data": {
      "text/plain": "                        max  min       mean\nCondition_unencoded                        \nLight Freezing Rain     281   -7  70.000000\nLight Snow / Windy      337  -10  63.625000\nWintry Mix / Windy      165   -2  54.750000\nHeavy Rain              325   -9  35.611111\nFog / Windy             390  -11  25.892857\nCloudy / Windy          372  -15  18.695015\nPartly Cloudy / Windy  1199  -11  15.950172\nLight Snow              421  -14  15.144737\nRain                    283  -13  14.495726\nWintry Mix              149  -10  12.337349\nFair / Windy           1276  -15   9.896514\nLight Rain              624  -18   9.595710\nLight Rain / Windy      195  -18   6.236111\nFair                    830  -18   6.032553\nMostly Cloudy / Windy   322  -18   5.855756\nCloudy                 1048  -22   5.316106\nPartly Cloudy           360  -18   5.227174\nMostly Cloudy          1148  -20   4.820802\nLight Drizzle           228  -16   3.958763\nRain / Windy            131  -12   3.800000\nFog                     132  -13   2.639456\nHeavy Rain / Windy       50  -19   1.166667\nLight Drizzle / Windy    47  -10  -0.722222\nDrizzle and Fog           7   -7  -3.000000\nSnow                     -4   -4  -4.000000",
      "text/html": "<div>\n<style scoped>\n    .dataframe tbody tr th:only-of-type {\n        vertical-align: middle;\n    }\n\n    .dataframe tbody tr th {\n        vertical-align: top;\n    }\n\n    .dataframe thead th {\n        text-align: right;\n    }\n</style>\n<table border=\"1\" class=\"dataframe\">\n  <thead>\n    <tr style=\"text-align: right;\">\n      <th></th>\n      <th>max</th>\n      <th>min</th>\n      <th>mean</th>\n    </tr>\n    <tr>\n      <th>Condition_unencoded</th>\n      <th></th>\n      <th></th>\n      <th></th>\n    </tr>\n  </thead>\n  <tbody>\n    <tr>\n      <th>Light Freezing Rain</th>\n      <td>281</td>\n      <td>-7</td>\n      <td>70.000000</td>\n    </tr>\n    <tr>\n      <th>Light Snow / Windy</th>\n      <td>337</td>\n      <td>-10</td>\n      <td>63.625000</td>\n    </tr>\n    <tr>\n      <th>Wintry Mix / Windy</th>\n      <td>165</td>\n      <td>-2</td>\n      <td>54.750000</td>\n    </tr>\n    <tr>\n      <th>Heavy Rain</th>\n      <td>325</td>\n      <td>-9</td>\n      <td>35.611111</td>\n    </tr>\n    <tr>\n      <th>Fog / Windy</th>\n      <td>390</td>\n      <td>-11</td>\n      <td>25.892857</td>\n    </tr>\n    <tr>\n      <th>Cloudy / Windy</th>\n      <td>372</td>\n      <td>-15</td>\n      <td>18.695015</td>\n    </tr>\n    <tr>\n      <th>Partly Cloudy / Windy</th>\n      <td>1199</td>\n      <td>-11</td>\n      <td>15.950172</td>\n    </tr>\n    <tr>\n      <th>Light Snow</th>\n      <td>421</td>\n      <td>-14</td>\n      <td>15.144737</td>\n    </tr>\n    <tr>\n      <th>Rain</th>\n      <td>283</td>\n      <td>-13</td>\n      <td>14.495726</td>\n    </tr>\n    <tr>\n      <th>Wintry Mix</th>\n      <td>149</td>\n      <td>-10</td>\n      <td>12.337349</td>\n    </tr>\n    <tr>\n      <th>Fair / Windy</th>\n      <td>1276</td>\n      <td>-15</td>\n      <td>9.896514</td>\n    </tr>\n    <tr>\n      <th>Light Rain</th>\n      <td>624</td>\n      <td>-18</td>\n      <td>9.595710</td>\n    </tr>\n    <tr>\n      <th>Light Rain / Windy</th>\n      <td>195</td>\n      <td>-18</td>\n      <td>6.236111</td>\n    </tr>\n    <tr>\n      <th>Fair</th>\n      <td>830</td>\n      <td>-18</td>\n      <td>6.032553</td>\n    </tr>\n    <tr>\n      <th>Mostly Cloudy / Windy</th>\n      <td>322</td>\n      <td>-18</td>\n      <td>5.855756</td>\n    </tr>\n    <tr>\n      <th>Cloudy</th>\n      <td>1048</td>\n      <td>-22</td>\n      <td>5.316106</td>\n    </tr>\n    <tr>\n      <th>Partly Cloudy</th>\n      <td>360</td>\n      <td>-18</td>\n      <td>5.227174</td>\n    </tr>\n    <tr>\n      <th>Mostly Cloudy</th>\n      <td>1148</td>\n      <td>-20</td>\n      <td>4.820802</td>\n    </tr>\n    <tr>\n      <th>Light Drizzle</th>\n      <td>228</td>\n      <td>-16</td>\n      <td>3.958763</td>\n    </tr>\n    <tr>\n      <th>Rain / Windy</th>\n      <td>131</td>\n      <td>-12</td>\n      <td>3.800000</td>\n    </tr>\n    <tr>\n      <th>Fog</th>\n      <td>132</td>\n      <td>-13</td>\n      <td>2.639456</td>\n    </tr>\n    <tr>\n      <th>Heavy Rain / Windy</th>\n      <td>50</td>\n      <td>-19</td>\n      <td>1.166667</td>\n    </tr>\n    <tr>\n      <th>Light Drizzle / Windy</th>\n      <td>47</td>\n      <td>-10</td>\n      <td>-0.722222</td>\n    </tr>\n    <tr>\n      <th>Drizzle and Fog</th>\n      <td>7</td>\n      <td>-7</td>\n      <td>-3.000000</td>\n    </tr>\n    <tr>\n      <th>Snow</th>\n      <td>-4</td>\n      <td>-4</td>\n      <td>-4.000000</td>\n    </tr>\n  </tbody>\n</table>\n</div>"
     },
     "execution_count": 314,
>>>>>>> Stashed changes
     "metadata": {},
     "output_type": "execute_result"
    }
   ],
   "source": [
    "#which condition has the most mean delay time\n",
    "df.groupby('Condition_unencoded')['DEP_DELAY'].agg(['max', 'min', 'mean']).sort_values(by='mean', ascending=False)"
<<<<<<< Updated upstream
   ]
=======
   ],
   "metadata": {
    "collapsed": false
   }
>>>>>>> Stashed changes
  },
  {
   "cell_type": "markdown",
   "metadata": {
    "collapsed": false
   },
   "source": [
    "This means usually long delay happens due to 11,15,24 which are light freezing rain, light snow with wind and wintry mix/windy"
<<<<<<< Updated upstream
   ]
=======
   ],
   "metadata": {
    "collapsed": false
   }
  },
  {
   "cell_type": "code",
   "execution_count": 315,
   "outputs": [
    {
     "data": {
      "text/plain": "                        max  min       mean  median  \\\nCondition_unencoded                                   \nCloudy                 1048  -22   5.316106    -3.0   \nCloudy / Windy          372  -15  18.695015    -3.0   \nDrizzle and Fog           7   -7  -3.000000    -5.0   \nFair                    830  -18   6.032553    -3.0   \nFair / Windy           1276  -15   9.896514    -2.0   \nFog                     132  -13   2.639456    -3.0   \nFog / Windy             390  -11  25.892857     0.5   \nHeavy Rain              325   -9  35.611111     9.0   \nHeavy Rain / Windy       50  -19   1.166667    -6.5   \nLight Drizzle           228  -16   3.958763    -3.0   \nLight Drizzle / Windy    47  -10  -0.722222    -2.5   \nLight Freezing Rain     281   -7  70.000000     3.0   \nLight Rain              624  -18   9.595710    -2.0   \nLight Rain / Windy      195  -18   6.236111    -3.0   \nLight Snow              421  -14  15.144737    -1.5   \nLight Snow / Windy      337  -10  63.625000    42.0   \nMostly Cloudy          1148  -20   4.820802    -3.0   \nMostly Cloudy / Windy   322  -18   5.855756    -3.0   \nPartly Cloudy           360  -18   5.227174    -3.0   \nPartly Cloudy / Windy  1199  -11  15.950172    -2.0   \nRain                    283  -13  14.495726     0.0   \nRain / Windy            131  -12   3.800000    -5.0   \nSnow                     -4   -4  -4.000000    -4.0   \nWintry Mix              149  -10  12.337349     0.0   \nWintry Mix / Windy      165   -2  54.750000    28.0   \n\n                                                                    mode  \nCondition_unencoded                                                       \nCloudy                                                                -5  \nCloudy / Windy                                                        -5  \nDrizzle and Fog                                      [-7, -6, -5, -4, 7]  \nFair                                                                  -5  \nFair / Windy                                                          -5  \nFog                                                                   -5  \nFog / Windy                                                            0  \nHeavy Rain                                                            -7  \nHeavy Rain / Windy                            [-19, -10, -9, -4, -1, 50]  \nLight Drizzle                                                         -6  \nLight Drizzle / Windy                                           [-8, -2]  \nLight Freezing Rain                                      [-7, 2, 4, 281]  \nLight Rain                                                            -5  \nLight Rain / Windy                                                    -4  \nLight Snow                                                            -2  \nLight Snow / Windy     [-10, -9, -5, -4, -1, 0, 3, 7, 10, 23, 31, 39,...  \nMostly Cloudy                                                         -5  \nMostly Cloudy / Windy                                                 -4  \nPartly Cloudy                                                         -5  \nPartly Cloudy / Windy                                                 -5  \nRain                                                                  -5  \nRain / Windy                                                    [-9, -5]  \nSnow                                                                  -4  \nWintry Mix                                                       [-3, 0]  \nWintry Mix / Windy                                     [-2, 14, 42, 165]  ",
      "text/html": "<div>\n<style scoped>\n    .dataframe tbody tr th:only-of-type {\n        vertical-align: middle;\n    }\n\n    .dataframe tbody tr th {\n        vertical-align: top;\n    }\n\n    .dataframe thead th {\n        text-align: right;\n    }\n</style>\n<table border=\"1\" class=\"dataframe\">\n  <thead>\n    <tr style=\"text-align: right;\">\n      <th></th>\n      <th>max</th>\n      <th>min</th>\n      <th>mean</th>\n      <th>median</th>\n      <th>mode</th>\n    </tr>\n    <tr>\n      <th>Condition_unencoded</th>\n      <th></th>\n      <th></th>\n      <th></th>\n      <th></th>\n      <th></th>\n    </tr>\n  </thead>\n  <tbody>\n    <tr>\n      <th>Cloudy</th>\n      <td>1048</td>\n      <td>-22</td>\n      <td>5.316106</td>\n      <td>-3.0</td>\n      <td>-5</td>\n    </tr>\n    <tr>\n      <th>Cloudy / Windy</th>\n      <td>372</td>\n      <td>-15</td>\n      <td>18.695015</td>\n      <td>-3.0</td>\n      <td>-5</td>\n    </tr>\n    <tr>\n      <th>Drizzle and Fog</th>\n      <td>7</td>\n      <td>-7</td>\n      <td>-3.000000</td>\n      <td>-5.0</td>\n      <td>[-7, -6, -5, -4, 7]</td>\n    </tr>\n    <tr>\n      <th>Fair</th>\n      <td>830</td>\n      <td>-18</td>\n      <td>6.032553</td>\n      <td>-3.0</td>\n      <td>-5</td>\n    </tr>\n    <tr>\n      <th>Fair / Windy</th>\n      <td>1276</td>\n      <td>-15</td>\n      <td>9.896514</td>\n      <td>-2.0</td>\n      <td>-5</td>\n    </tr>\n    <tr>\n      <th>Fog</th>\n      <td>132</td>\n      <td>-13</td>\n      <td>2.639456</td>\n      <td>-3.0</td>\n      <td>-5</td>\n    </tr>\n    <tr>\n      <th>Fog / Windy</th>\n      <td>390</td>\n      <td>-11</td>\n      <td>25.892857</td>\n      <td>0.5</td>\n      <td>0</td>\n    </tr>\n    <tr>\n      <th>Heavy Rain</th>\n      <td>325</td>\n      <td>-9</td>\n      <td>35.611111</td>\n      <td>9.0</td>\n      <td>-7</td>\n    </tr>\n    <tr>\n      <th>Heavy Rain / Windy</th>\n      <td>50</td>\n      <td>-19</td>\n      <td>1.166667</td>\n      <td>-6.5</td>\n      <td>[-19, -10, -9, -4, -1, 50]</td>\n    </tr>\n    <tr>\n      <th>Light Drizzle</th>\n      <td>228</td>\n      <td>-16</td>\n      <td>3.958763</td>\n      <td>-3.0</td>\n      <td>-6</td>\n    </tr>\n    <tr>\n      <th>Light Drizzle / Windy</th>\n      <td>47</td>\n      <td>-10</td>\n      <td>-0.722222</td>\n      <td>-2.5</td>\n      <td>[-8, -2]</td>\n    </tr>\n    <tr>\n      <th>Light Freezing Rain</th>\n      <td>281</td>\n      <td>-7</td>\n      <td>70.000000</td>\n      <td>3.0</td>\n      <td>[-7, 2, 4, 281]</td>\n    </tr>\n    <tr>\n      <th>Light Rain</th>\n      <td>624</td>\n      <td>-18</td>\n      <td>9.595710</td>\n      <td>-2.0</td>\n      <td>-5</td>\n    </tr>\n    <tr>\n      <th>Light Rain / Windy</th>\n      <td>195</td>\n      <td>-18</td>\n      <td>6.236111</td>\n      <td>-3.0</td>\n      <td>-4</td>\n    </tr>\n    <tr>\n      <th>Light Snow</th>\n      <td>421</td>\n      <td>-14</td>\n      <td>15.144737</td>\n      <td>-1.5</td>\n      <td>-2</td>\n    </tr>\n    <tr>\n      <th>Light Snow / Windy</th>\n      <td>337</td>\n      <td>-10</td>\n      <td>63.625000</td>\n      <td>42.0</td>\n      <td>[-10, -9, -5, -4, -1, 0, 3, 7, 10, 23, 31, 39,...</td>\n    </tr>\n    <tr>\n      <th>Mostly Cloudy</th>\n      <td>1148</td>\n      <td>-20</td>\n      <td>4.820802</td>\n      <td>-3.0</td>\n      <td>-5</td>\n    </tr>\n    <tr>\n      <th>Mostly Cloudy / Windy</th>\n      <td>322</td>\n      <td>-18</td>\n      <td>5.855756</td>\n      <td>-3.0</td>\n      <td>-4</td>\n    </tr>\n    <tr>\n      <th>Partly Cloudy</th>\n      <td>360</td>\n      <td>-18</td>\n      <td>5.227174</td>\n      <td>-3.0</td>\n      <td>-5</td>\n    </tr>\n    <tr>\n      <th>Partly Cloudy / Windy</th>\n      <td>1199</td>\n      <td>-11</td>\n      <td>15.950172</td>\n      <td>-2.0</td>\n      <td>-5</td>\n    </tr>\n    <tr>\n      <th>Rain</th>\n      <td>283</td>\n      <td>-13</td>\n      <td>14.495726</td>\n      <td>0.0</td>\n      <td>-5</td>\n    </tr>\n    <tr>\n      <th>Rain / Windy</th>\n      <td>131</td>\n      <td>-12</td>\n      <td>3.800000</td>\n      <td>-5.0</td>\n      <td>[-9, -5]</td>\n    </tr>\n    <tr>\n      <th>Snow</th>\n      <td>-4</td>\n      <td>-4</td>\n      <td>-4.000000</td>\n      <td>-4.0</td>\n      <td>-4</td>\n    </tr>\n    <tr>\n      <th>Wintry Mix</th>\n      <td>149</td>\n      <td>-10</td>\n      <td>12.337349</td>\n      <td>0.0</td>\n      <td>[-3, 0]</td>\n    </tr>\n    <tr>\n      <th>Wintry Mix / Windy</th>\n      <td>165</td>\n      <td>-2</td>\n      <td>54.750000</td>\n      <td>28.0</td>\n      <td>[-2, 14, 42, 165]</td>\n    </tr>\n  </tbody>\n</table>\n</div>"
     },
     "execution_count": 315,
     "metadata": {},
     "output_type": "execute_result"
    }
   ],
   "source": [
    "# print mode of each condition\n",
    "df.groupby('Condition_unencoded')['DEP_DELAY'].agg(['max', 'min', 'mean','median',pd.Series.mode])\n",
    "\n",
    "\n"
   ],
   "metadata": {
    "collapsed": false
   }
  },
  {
   "cell_type": "code",
   "execution_count": 316,
   "outputs": [
    {
     "data": {
      "text/plain": "Condition_unencoded\nMostly Cloudy            9124\nFair                     5038\nCloudy                   4992\nPartly Cloudy            3209\nLight Rain               1865\nMostly Cloudy / Windy    1442\nFair / Windy              918\nPartly Cloudy / Windy     582\nRain                      351\nCloudy / Windy            341\nLight Rain / Windy        288\nLight Drizzle             194\nFog                       147\nWintry Mix                 83\nLight Snow                 76\nHeavy Rain                 54\nFog / Windy                28\nRain / Windy               25\nLight Snow / Windy         24\nLight Drizzle / Windy      18\nHeavy Rain / Windy          6\nDrizzle and Fog             5\nLight Freezing Rain         4\nWintry Mix / Windy          4\nSnow                        2\nName: count, dtype: int64"
     },
     "execution_count": 316,
     "metadata": {},
     "output_type": "execute_result"
    }
   ],
   "source": [
    "df['Condition_unencoded'].value_counts()"
   ],
   "metadata": {
    "collapsed": false
   }
  },
  {
   "cell_type": "markdown",
   "source": [
    "Snow is very less\n",
    "Light freezing rain, Wintry Mix / windy data points is very less but mean delay time is very high\n",
    "Light snow/windy is fine\n",
    "Partly cloudy/windy and cloudy/windy will be merged cuz their mean delay time is almost same.\n",
    "Mostly cloudy/windy , cloudy , partially cloudy, mostly cloudy will be merged cuz their mean delay time is almost same.\n",
    "\n",
    "Here I merged some conditions based on their mean,mode and median delay time"
   ],
   "metadata": {
    "collapsed": false
   }
  },
  {
   "cell_type": "code",
   "execution_count": 317,
   "outputs": [],
   "source": [
    "# make condition encoding same for Partly cloudy/windy and cloudy/windy\n",
    "df_pre = df.copy()\n",
    "df_pre['DEP_DELAY'] = df_pre['DEP_DELAY'].apply(lambda x: 1 if x>15 else 0)\n",
    "\n",
    "df_pre['Condition_unencoded'] = df_pre['Condition_unencoded'].replace('Partly Cloudy / Windy', 'Cloudy / Windy')\n",
    "df_pre['Condition_unencoded'] = df_pre['Condition_unencoded'].replace('Mostly Cloudy / Windy', 'Cloudy / Windy')\n",
    "# make condition encoding same for Mostly cloudy/windy , cloudy , partially cloudy, mostly cloudy\n",
    "# df_pre['Condition_unencoded'] = df_pre['Condition_unencoded'].replace('Mostly Cloudy', 'Cloudy')\n",
    "df_pre['Condition_unencoded'] = df_pre['Condition_unencoded'].replace('Partly Cloudy', 'Cloudy')\n",
    "df_pre['Condition_unencoded'] = df_pre['Condition_unencoded'].replace('Mostly Cloudy', 'Cloudy')\n",
    "df_pre['Condition_unencoded'] = df_pre['Condition_unencoded'].replace('Fair / Windy', 'Fair')\n",
    "df_pre['Condition_unencoded'] = df_pre['Condition_unencoded'].replace('Light Rain / Windy', 'Light Rain')\n",
    "df_pre['Condition_unencoded'] = df_pre['Condition_unencoded'].replace('Light Drizzle', 'Rain / Windy')\n",
    "# light freezinf rain, light snow with wind and wintry mix/windy will be merged\n",
    "df_pre['Condition_unencoded'] = df_pre['Condition_unencoded'].replace('Light Freezing Rain', 'Light Snow / Windy')\n",
    "df_pre['Condition_unencoded'] = df_pre['Condition_unencoded'].replace('Wintry Mix / Windy', 'Light Snow / Windy')\n",
    "# Rain, Light Rain, Rain / Windy will be merged\n",
    "df_pre['Condition_unencoded'] = df_pre['Condition_unencoded'].replace('Light Rain', 'Rain')\n",
    "df_pre['Condition_unencoded'] = df_pre['Condition_unencoded'].replace('Rain / Windy', 'Rain')\n",
    "\n"
   ],
   "metadata": {
    "collapsed": false
   }
  },
  {
   "cell_type": "code",
   "execution_count": 334,
   "outputs": [
    {
     "name": "stdout",
     "output_type": "stream",
     "text": [
      "DEP_DELAY\n",
      "0    24946\n",
      "1     3874\n",
      "Name: count, dtype: int64\n"
     ]
    }
   ],
   "source": [
    "print(df_pre['DEP_DELAY'].value_counts())"
   ],
   "metadata": {
    "collapsed": false
   }
  },
  {
   "cell_type": "code",
   "execution_count": 318,
   "outputs": [
    {
     "data": {
      "text/plain": "Condition_unencoded\nCloudy                   17325\nFair                      5956\nRain                      2723\nCloudy / Windy            2365\nFog                        147\nWintry Mix                  83\nLight Snow                  76\nHeavy Rain                  54\nLight Snow / Windy          32\nFog / Windy                 28\nLight Drizzle / Windy       18\nHeavy Rain / Windy           6\nDrizzle and Fog              5\nSnow                         2\nName: count, dtype: int64"
     },
     "execution_count": 318,
     "metadata": {},
     "output_type": "execute_result"
    }
   ],
   "source": [
    "df_pre.drop(['Condition'], axis=1, inplace=True)\n",
    "df_pre['Condition_unencoded'].value_counts()"
   ],
   "metadata": {
    "collapsed": false
   }
  },
  {
   "cell_type": "markdown",
   "source": [
    "Cloudy is too much"
   ],
   "metadata": {
    "collapsed": false
   }
  },
  {
   "cell_type": "code",
   "execution_count": 318,
   "outputs": [],
   "source": [],
   "metadata": {
    "collapsed": false
   }
  },
  {
   "cell_type": "code",
   "execution_count": 318,
   "outputs": [],
   "source": [],
   "metadata": {
    "collapsed": false
   }
  },
  {
   "cell_type": "code",
   "execution_count": 319,
   "outputs": [
    {
     "name": "stdout",
     "output_type": "stream",
     "text": [
      "{'Cloudy': 0, 'Cloudy / Windy': 1, 'Drizzle and Fog': 2, 'Fair': 3, 'Fog': 4, 'Fog / Windy': 5, 'Heavy Rain': 6, 'Heavy Rain / Windy': 7, 'Light Drizzle / Windy': 8, 'Light Snow': 9, 'Light Snow / Windy': 10, 'Rain': 11, 'Snow': 12, 'Wintry Mix': 13}\n",
      "{'ABQ': 0, 'ATL': 1, 'AUS': 2, 'BNA': 3, 'BOS': 4, 'BQN': 5, 'BTV': 6, 'BUF': 7, 'BUR': 8, 'BWI': 9, 'CHS': 10, 'CLE': 11, 'CLT': 12, 'CMH': 13, 'CVG': 14, 'DCA': 15, 'DEN': 16, 'DFW': 17, 'DTW': 18, 'EGE': 19, 'FLL': 20, 'HNL': 21, 'IAD': 22, 'IAH': 23, 'IND': 24, 'JAC': 25, 'JAX': 26, 'LAS': 27, 'LAX': 28, 'LGB': 29, 'MCO': 30, 'MIA': 31, 'MSP': 32, 'MSY': 33, 'OAK': 34, 'ONT': 35, 'ORD': 36, 'ORF': 37, 'ORH': 38, 'PBI': 39, 'PDX': 40, 'PHL': 41, 'PHX': 42, 'PIT': 43, 'PSE': 44, 'PSP': 45, 'PWM': 46, 'RDU': 47, 'RIC': 48, 'RNO': 49, 'ROC': 50, 'RSW': 51, 'SAN': 52, 'SAT': 53, 'SAV': 54, 'SEA': 55, 'SFO': 56, 'SJC': 57, 'SJU': 58, 'SLC': 59, 'SMF': 60, 'SRQ': 61, 'STT': 62, 'SYR': 63, 'TPA': 64}\n",
      "{'-1': 0, '-2': 1, '-3': 2, '0\\xa0': 3, '10': 4, '11': 5, '12': 6, '13': 7, '14': 8, '15': 9, '16': 10, '17': 11, '18': 12, '19': 13, '1\\xa0': 14, '20': 15, '21': 16, '22': 17, '23': 18, '24': 19, '25': 20, '26': 21, '27': 22, '28': 23, '29': 24, '2\\xa0': 25, '30': 26, '31': 27, '32': 28, '33': 29, '34': 30, '35': 31, '36': 32, '37': 33, '38': 34, '39': 35, '3\\xa0': 36, '40': 37, '41': 38, '42': 39, '43': 40, '44': 41, '45': 42, '46': 43, '47': 44, '48': 45, '49': 46, '4\\xa0': 47, '50': 48, '51': 49, '52': 50, '53': 51, '54': 52, '55': 53, '56': 54, '57': 55, '58': 56, '59': 57, '5\\xa0': 58, '67': 59, '6\\xa0': 60, '7\\xa0': 61, '8\\xa0': 62, '9\\xa0': 63}\n",
      "{'CALM': 0, 'E': 1, 'ENE': 2, 'ESE': 3, 'N': 4, 'NE': 5, 'NNE': 6, 'NNW': 7, 'NW': 8, 'S': 9, 'SE': 10, 'SSE': 11, 'SSW': 12, 'SW': 13, 'VAR': 14, 'W': 15, 'WNW': 16, 'WSW': 17, nan: 18}\n"
     ]
    }
   ],
   "source": [
    "# df_pre  = df.copy()\n",
    "lb = LabelEncoder()\n",
    "df_pre['Condition'] = lb.fit_transform(df_pre['Condition_unencoded'])\n",
    "lb_name_mapping = dict(zip(lb.classes_, lb.transform(lb.classes_)))\n",
    "print(lb_name_mapping)\n",
    "lb_dest = LabelEncoder()\n",
    "df_pre['DEST'] = lb_dest.fit_transform(df_pre['DEST'])\n",
    "lb_name_mapping_dest = dict(zip(lb_dest.classes_, lb_dest.transform(lb_dest.classes_)))\n",
    "print(lb_name_mapping_dest)\n",
    "lb_dew = LabelEncoder()\n",
    "df_pre['Dew Point'] = lb_dew.fit_transform(df_pre['Dew Point'])\n",
    "lb_name_mapping_dew = dict(zip(lb_dew.classes_, lb_dew.transform(lb_dew.classes_)))\n",
    "print(lb_name_mapping_dew)\n",
    "lb_wind = LabelEncoder()\n",
    "df_pre['Wind'] = lb_wind.fit_transform(df_pre['Wind'])\n",
    "lb_name_mapping_wind = dict(zip(lb_wind.classes_, lb_wind.transform(lb_wind.classes_)))\n",
    "print(lb_name_mapping_wind)\n",
    "\n"
   ],
   "metadata": {
    "collapsed": false
   }
  },
  {
   "cell_type": "code",
   "execution_count": 320,
   "outputs": [],
   "source": [
    "df_pre.drop(['Condition_unencoded'], axis=1, inplace=True)\n",
    "df_pre.drop(['TAIL_NUM'], axis=1, inplace=True)\n",
    "\n",
    "x = df_pre.drop(['DEP_DELAY'], axis=1)\n",
    "y = df_pre['DEP_DELAY']"
   ],
   "metadata": {
    "collapsed": false
   }
  },
  {
   "cell_type": "code",
   "execution_count": 321,
   "outputs": [
    {
     "name": "stdout",
     "output_type": "stream",
     "text": [
      "<class 'pandas.core.frame.DataFrame'>\n",
      "RangeIndex: 28820 entries, 0 to 28819\n",
      "Data columns (total 22 columns):\n",
      " #   Column             Non-Null Count  Dtype  \n",
      "---  ------             --------------  -----  \n",
      " 0   MONTH              28820 non-null  int64  \n",
      " 1   DAY_OF_MONTH       28820 non-null  int64  \n",
      " 2   DAY_OF_WEEK        28820 non-null  int64  \n",
      " 3   OP_UNIQUE_CARRIER  28820 non-null  int32  \n",
      " 4   DEST               28820 non-null  int32  \n",
      " 5   DEP_DELAY          28820 non-null  int64  \n",
      " 6   CRS_ELAPSED_TIME   28820 non-null  int64  \n",
      " 7   DISTANCE           28820 non-null  int64  \n",
      " 8   CRS_DEP_M          28820 non-null  int64  \n",
      " 9   DEP_TIME_M         28820 non-null  int64  \n",
      " 10  CRS_ARR_M          28820 non-null  int64  \n",
      " 11  Temperature        28820 non-null  int64  \n",
      " 12  Dew Point          28820 non-null  int32  \n",
      " 13  Humidity           28820 non-null  int64  \n",
      " 14  Wind               28820 non-null  int32  \n",
      " 15  Wind Speed         28820 non-null  int64  \n",
      " 16  Wind Gust          28820 non-null  int64  \n",
      " 17  Pressure           28820 non-null  float64\n",
      " 18  sch_dep            28820 non-null  int64  \n",
      " 19  sch_arr            28820 non-null  int64  \n",
      " 20  TAXI_OUT           28820 non-null  int64  \n",
      " 21  Condition          28820 non-null  int32  \n",
      "dtypes: float64(1), int32(5), int64(16)\n",
      "memory usage: 4.3 MB\n",
      "None\n",
      "(28820, 22)\n"
     ]
    }
   ],
   "source": [
    "print(df_pre.info())\n",
    "print(df_pre.shape)"
   ],
   "metadata": {
    "collapsed": false
   }
  },
  {
   "cell_type": "code",
   "execution_count": 333,
   "outputs": [],
   "source": [
    "# save df_pre as a new csv file\n",
    "df_pre.to_csv('df_preprocessed.csv', index=False)"
   ],
   "metadata": {
    "collapsed": false
   }
>>>>>>> Stashed changes
  }
 ],
 "metadata": {
  "kernelspec": {
   "display_name": "Python 3",
   "language": "python",
   "name": "python3"
  },
  "language_info": {
   "codemirror_mode": {
    "name": "ipython",
    "version": 3
   },
   "file_extension": ".py",
   "mimetype": "text/x-python",
   "name": "python",
   "nbconvert_exporter": "python",
   "pygments_lexer": "ipython3",
   "version": "3.11.5"
  }
 },
 "nbformat": 4,
 "nbformat_minor": 0
}
