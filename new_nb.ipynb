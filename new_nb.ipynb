{
 "cells": [
  {
   "cell_type": "code",
   "execution_count": 2,
   "metadata": {},
   "outputs": [],
   "source": [
    "import pandas as pd\n",
    "import numpy as np\n",
    "import matplotlib.pyplot as plt\n",
    "import seaborn as sns\n",
    "import os\n",
    "import re\n",
    "import imblearn\n",
    "from sklearn.decomposition import PCA"
   ]
  },
  {
   "cell_type": "code",
   "execution_count": null,
   "metadata": {},
   "outputs": [],
   "source": [
    "df = pd.read_csv('data/processed/archive/M1_final.csv')\n",
    "df_pre = df.copy()\n",
    "\n",
    "df.head()"
   ]
  },
  {
   "cell_type": "code",
   "execution_count": null,
   "metadata": {},
   "outputs": [],
   "source": [
    "df.shape"
   ]
  },
  {
   "cell_type": "code",
   "execution_count": null,
   "metadata": {},
   "outputs": [],
   "source": [
    "df.describe()"
   ]
  },
  {
   "cell_type": "code",
   "execution_count": null,
   "metadata": {},
   "outputs": [],
   "source": [
    "# all columns of df\n",
    "df.columns"
   ]
  },
  {
   "cell_type": "code",
   "execution_count": null,
   "metadata": {},
   "outputs": [],
   "source": [
    "# Label encoding for OP_UNIQUE_CARRIER\\n\",\n",
    "from sklearn.preprocessing import LabelEncoder\n",
    "le = LabelEncoder()\n",
    "df['OP_UNIQUE_CARRIER'] = le.fit_transform(df['OP_UNIQUE_CARRIER'])\n",
    "le_name_mapping = dict(zip(le.classes_, le.transform(le.classes_)))\n",
    "print(le_name_mapping)"
   ]
  },
  {
   "cell_type": "code",
   "execution_count": null,
   "metadata": {},
   "outputs": [],
   "source": [
    "# Label encoding for conditions and save mapping\n",
    "le_cond = LabelEncoder()\n",
    "df['Condition'] = le_cond.fit_transform(df['Condition'])\n",
    "le_name_mapping_cond = dict(zip(le_cond.classes_, le_cond.transform(le_cond.classes_)))\n",
    "print(le_name_mapping_cond)\n",
    "\n"
   ]
  },
  {
   "cell_type": "code",
   "execution_count": null,
   "metadata": {},
   "outputs": [],
   "source": [
    "#how many conditions have windy in it\n",
    "df['Condition'].value_counts()\n",
    "# remove label encoding\n",
    "df['Condition_unencoded'] = le_cond.inverse_transform(df['Condition'])\n",
    "df['Condition_unencoded'].value_counts()"
   ]
  },
  {
   "cell_type": "code",
   "execution_count": null,
   "metadata": {},
   "outputs": [],
   "source": [
    "# make condition encoding same for Partly cloudy/windy and cloudy/windy\n",
    "df_pre = df.copy()\n",
    "df_pre['DEP_DELAY'] = df_pre['DEP_DELAY'].apply(lambda x: 1 if x>15 else 0)\n",
    "\n",
    "df_pre['Condition_unencoded'] = df_pre['Condition_unencoded'].replace('Partly Cloudy / Windy', 'Cloudy / Windy')\n",
    "df_pre['Condition_unencoded'] = df_pre['Condition_unencoded'].replace('Mostly Cloudy / Windy', 'Cloudy / Windy')\n",
    "# make condition encoding same for Mostly cloudy/windy , cloudy , partially cloudy, mostly cloudy\n",
    "# df_pre['Condition_unencoded'] = df_pre['Condition_unencoded'].replace('Mostly Cloudy', 'Cloudy')\n",
    "df_pre['Condition_unencoded'] = df_pre['Condition_unencoded'].replace('Partly Cloudy', 'Cloudy')\n",
    "df_pre['Condition_unencoded'] = df_pre['Condition_unencoded'].replace('Mostly Cloudy', 'Cloudy')\n",
    "df_pre['Condition_unencoded'] = df_pre['Condition_unencoded'].replace('Fair / Windy', 'Fair')\n",
    "df_pre['Condition_unencoded'] = df_pre['Condition_unencoded'].replace('Light Rain / Windy', 'Light Rain')\n",
    "df_pre['Condition_unencoded'] = df_pre['Condition_unencoded'].replace('Light Drizzle', 'Rain / Windy')\n",
    "# light freezinf rain, light snow with wind and wintry mix/windy will be merged\n",
    "df_pre['Condition_unencoded'] = df_pre['Condition_unencoded'].replace('Light Freezing Rain', 'Light Snow / Windy')\n",
    "df_pre['Condition_unencoded'] = df_pre['Condition_unencoded'].replace('Wintry Mix / Windy', 'Light Snow / Windy')\n",
    "# Rain, Light Rain, Rain / Windy will be merged\n",
    "df_pre['Condition_unencoded'] = df_pre['Condition_unencoded'].replace('Light Rain', 'Rain')\n",
    "df_pre['Condition_unencoded'] = df_pre['Condition_unencoded'].replace('Rain / Windy', 'Rain')\n"
   ]
  },
  {
   "cell_type": "code",
   "execution_count": null,
   "metadata": {},
   "outputs": [],
   "source": [
    "print(df_pre['DEP_DELAY'].value_counts())"
   ]
  },
  {
   "cell_type": "code",
   "execution_count": null,
   "metadata": {},
   "outputs": [],
   "source": [
    "df_pre.drop(['Condition'], axis=1, inplace=True)\n",
    "df_pre['Condition_unencoded'].value_counts()\n"
   ]
  },
  {
   "cell_type": "code",
   "execution_count": null,
   "metadata": {},
   "outputs": [],
   "source": [
    "# df_pre  = df.copy()\n",
    "lb = LabelEncoder()\n",
    "df_pre['Condition'] = lb.fit_transform(df_pre['Condition_unencoded'])\n",
    "lb_name_mapping = dict(zip(lb.classes_, lb.transform(lb.classes_)))\n",
    "print(lb_name_mapping)\n",
    "lb_dest = LabelEncoder()\n",
    "df_pre['DEST'] = lb_dest.fit_transform(df_pre['DEST'])\n",
    "lb_name_mapping_dest = dict(zip(lb_dest.classes_, lb_dest.transform(lb_dest.classes_)))\n",
    "print(lb_name_mapping_dest)\n",
    "lb_dew = LabelEncoder()\n",
    "df_pre['Dew Point'] = lb_dew.fit_transform(df_pre['Dew Point'])\n",
    "lb_name_mapping_dew = dict(zip(lb_dew.classes_, lb_dew.transform(lb_dew.classes_)))\n",
    "print(lb_name_mapping_dew)\n",
    "lb_wind = LabelEncoder()\n",
    "df_pre['Wind'] = lb_wind.fit_transform(df_pre['Wind'])\n",
    "lb_name_mapping_wind = dict(zip(lb_wind.classes_, lb_wind.transform(lb_wind.classes_)))\n",
    "print(lb_name_mapping_wind)\n"
   ]
  },
  {
   "cell_type": "code",
   "execution_count": null,
   "metadata": {},
   "outputs": [],
   "source": [
    "df_pre.drop(['Condition_unencoded'], axis=1, inplace=True)\n",
    "df_pre.drop(['TAIL_NUM'], axis=1, inplace=True)\n",
    "\n",
    "x = df_pre.drop(['DEP_DELAY'], axis=1)\n",
    "y = df_pre['DEP_DELAY']\n"
   ]
  },
  {
   "cell_type": "code",
   "execution_count": null,
   "metadata": {},
   "outputs": [],
   "source": [
    "print(df_pre.info())\n",
    "print(df_pre.shape)\n"
   ]
  },
  {
   "cell_type": "code",
   "execution_count": null,
   "metadata": {},
   "outputs": [],
   "source": [
    "# save df_pre as a new csv file\n",
    "df_pre.to_csv('df_preprocessed.csv', index=False)"
   ]
  }
 ],
 "metadata": {
  "kernelspec": {
   "display_name": ".venv",
   "language": "python",
   "name": "python3"
  },
  "language_info": {
   "codemirror_mode": {
    "name": "ipython",
    "version": 3
   },
   "file_extension": ".py",
   "mimetype": "text/x-python",
   "name": "python",
   "nbconvert_exporter": "python",
   "pygments_lexer": "ipython3",
   "version": "3.11.5"
  }
 },
 "nbformat": 4,
 "nbformat_minor": 2
}
